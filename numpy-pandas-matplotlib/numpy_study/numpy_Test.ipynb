{
 "cells": [
  {
   "cell_type": "markdown",
   "metadata": {},
   "source": [
    "# 简介"
   ]
  },
  {
   "cell_type": "markdown",
   "metadata": {},
   "source": [
    "## 简单例子"
   ]
  },
  {
   "cell_type": "code",
   "execution_count": 1,
   "metadata": {},
   "outputs": [
    {
     "data": {
      "text/plain": [
       "array([[80, 89, 86, 67, 79],\n",
       "       [78, 97, 89, 67, 81],\n",
       "       [90, 94, 78, 67, 74],\n",
       "       [91, 91, 90, 67, 69],\n",
       "       [76, 87, 75, 67, 86],\n",
       "       [70, 79, 84, 67, 84],\n",
       "       [94, 92, 93, 67, 64],\n",
       "       [86, 85, 83, 67, 80]])"
      ]
     },
     "execution_count": 1,
     "metadata": {},
     "output_type": "execute_result"
    }
   ],
   "source": [
    "import numpy as np\n",
    "\n",
    "# 创建ndarray\n",
    "score = np.array([[80, 89, 86, 67, 79],\n",
    "[78, 97, 89, 67, 81],\n",
    "[90, 94, 78, 67, 74],\n",
    "[91, 91, 90, 67, 69],\n",
    "[76, 87, 75, 67, 86],\n",
    "[70, 79, 84, 67, 84],\n",
    "[94, 92, 93, 67, 64],\n",
    "[86, 85, 83, 67, 80]])\n",
    "\n",
    "score"
   ]
  },
  {
   "cell_type": "markdown",
   "metadata": {},
   "source": [
    "## ndarray与Python原生list运算效率对比"
   ]
  },
  {
   "cell_type": "code",
   "execution_count": 10,
   "metadata": {},
   "outputs": [
    {
     "name": "stdout",
     "output_type": "stream",
     "text": [
      "1\n"
     ]
    }
   ],
   "source": [
    "print(1)"
   ]
  },
  {
   "cell_type": "code",
   "execution_count": 13,
   "metadata": {},
   "outputs": [
    {
     "name": "stdout",
     "output_type": "stream",
     "text": [
      "0.7825219631195068 0.13491487503051758\n"
     ]
    }
   ],
   "source": [
    "import random\n",
    "import time\n",
    "import numpy as np\n",
    "\n",
    "# 生成数据\n",
    "ls = []\n",
    "for i in range(100000000):\n",
    "    ls.append(random.random())\n",
    "\n",
    "# 列表求和\n",
    "a = ls\n",
    "t1 = time.time()\n",
    "sum1=sum(a)\n",
    "t2=time.time()\n",
    "\n",
    "# numpy求和\n",
    "b=np.array(ls)\n",
    "t4=time.time()\n",
    "sum3=np.sum(b)\n",
    "t5=time.time()\n",
    "\n",
    "# 打印时间\n",
    "print(t2-t1, t5-t4)"
   ]
  },
  {
   "cell_type": "markdown",
   "metadata": {},
   "source": [
    "从中我们看到ndarray的计算速度要快很多，节约了时间。\n",
    "\n",
    "机器学习的最大特点就是大量的数据运算，那么如果没有一个快速的解决方案，那可能现在python也在机器学习领域达不到好的效果。"
   ]
  },
  {
   "cell_type": "markdown",
   "metadata": {},
   "source": [
    "## ndarray的优势\n",
    "+ 因为ndarray中的所有元素的类型都是相同的，而Python列表中的元素类型是任意的，所以ndarray在存储元素时内存可以连续，而python原生lis就t只能通过寻址方式找到下一个元素，这虽然也导致了在通用性能方面Numpy的ndarray不及Python原生list，但在科学计算中，Numpy的ndarray就可以省掉很多循环语句，代码使用方面比Python原生list简单的多。\n",
    "+ ndarray支持并行化运算（向量化运算）\n",
    "+ Numpy底层使用C语言编写，内部解除了GIL（全局解释器锁），其对数组的操作速度不受Python解释器的限制，效率远高于纯Python代码。"
   ]
  },
  {
   "cell_type": "markdown",
   "metadata": {},
   "source": [
    "## ndarray的属性\n",
    "|属性名字\t|属性解释\n",
    "|---------|-----------|\n",
    "|ndarray.shape\t|数组维度的元组\n",
    "|ndarray.dtype\t|数组元素的类型\n",
    "|ndarray.ndim\t|数组维数\n",
    "|ndarray.size\t|数组中的元素数量\n",
    "|ndarray.itemsize\t|一个数组元素的长度（字节）"
   ]
  },
  {
   "cell_type": "code",
   "execution_count": 16,
   "metadata": {},
   "outputs": [],
   "source": [
    "# 创建不同形状的数组\n",
    "a = np.array([[1,2,3],[4,5,6]])\n",
    "b = np.array([1,2,3,4])\n",
    "c = np.array([ [[1,2,3],[4,5,6]],[[1,2,3],[4,5,6]] ])"
   ]
  },
  {
   "cell_type": "code",
   "execution_count": 17,
   "metadata": {},
   "outputs": [
    {
     "data": {
      "text/plain": [
       "(2, 3)"
      ]
     },
     "execution_count": 17,
     "metadata": {},
     "output_type": "execute_result"
    }
   ],
   "source": [
    "a.shape  # 二维数组"
   ]
  },
  {
   "cell_type": "code",
   "execution_count": 18,
   "metadata": {},
   "outputs": [
    {
     "data": {
      "text/plain": [
       "(4,)"
      ]
     },
     "execution_count": 18,
     "metadata": {},
     "output_type": "execute_result"
    }
   ],
   "source": [
    "b.shape  # 一维数组"
   ]
  },
  {
   "cell_type": "code",
   "execution_count": 19,
   "metadata": {},
   "outputs": [
    {
     "data": {
      "text/plain": [
       "(2, 2, 3)"
      ]
     },
     "execution_count": 19,
     "metadata": {},
     "output_type": "execute_result"
    }
   ],
   "source": [
    "c.shape  # 三维数组"
   ]
  },
  {
   "cell_type": "code",
   "execution_count": 20,
   "metadata": {},
   "outputs": [
    {
     "data": {
      "text/plain": [
       "dtype('int32')"
      ]
     },
     "execution_count": 20,
     "metadata": {},
     "output_type": "execute_result"
    }
   ],
   "source": [
    "a.dtype"
   ]
  },
  {
   "cell_type": "code",
   "execution_count": 24,
   "metadata": {},
   "outputs": [
    {
     "data": {
      "text/plain": [
       "dtype('float32')"
      ]
     },
     "execution_count": 24,
     "metadata": {},
     "output_type": "execute_result"
    }
   ],
   "source": [
    "# 创建数组的时候指定类型\n",
    "a = np.array([[1,2,3],[4,5,6]],dtype=np.float32)\n",
    "a.dtype"
   ]
  },
  {
   "cell_type": "markdown",
   "metadata": {},
   "source": [
    "|名称|描述|简写|\n",
    "|:-:|:-:|:-:|\n",
    "|np.bool\t|用一个字节存储的布尔类型（True或False）\t|'b'|\n",
    "|np.int8\t|一个字节大小，-128 至 127\t|'i'|\n",
    "|np.int16\t|整数，-32768 至 32767\t|'i2'|\n",
    "|np.int32\t|整数，-2 31 至 2 32 -1\t|'i4'|\n",
    "|np.int64\t|整数，-2 63 至 2 63 - 1\t|'i8'|\n",
    "|np.uint8\t|无符号整数，0 至 255\t|'u'|\n",
    "|np.uint16\t|无符号整数，0 至 65535\t|'u2'|\n",
    "|np.uint32\t|无符号整数，0 至 2 ** 32 - 1\t|'u4'|\n",
    "|np.uint64\t|无符号整数，0 至 2 ** 64 - 1\t|'u8'|\n",
    "|np.float16\t|半精度浮点数：16位，正负号1位，指数5位，精度10位\t|'f2'|\n",
    "|np.float32\t|单精度浮点数：32位，正负号1位，指数8位，精度23位\t|'f4'|\n",
    "|np.float64\t|双精度浮点数：64位，正负号1位，指数11位，精度52位\t|'f8'|\n",
    "|np.complex64\t|复数，分别用两个32位浮点数表示实部和虚部\t|'c8'|\n",
    "|np.complex128\t|复数，分别用两个64位浮点数表示实部和虚部\t|'c16'|\n",
    "|np.object_\t|python对象\t|'O'|\n",
    "|np.string_\t|字符串\t|'S'|\n",
    "|np.unicode_\t|unicode类型\t|'U'|"
   ]
  },
  {
   "cell_type": "markdown",
   "metadata": {},
   "source": [
    "# 一、基本操作"
   ]
  },
  {
   "cell_type": "markdown",
   "metadata": {},
   "source": [
    "## 1.1生成数组"
   ]
  },
  {
   "cell_type": "markdown",
   "metadata": {},
   "source": [
    "+ ### 1.1.1 生成 0,1 数组"
   ]
  },
  {
   "cell_type": "code",
   "execution_count": 26,
   "metadata": {},
   "outputs": [
    {
     "data": {
      "text/plain": [
       "array([[0., 0., 0., 0.],\n",
       "       [0., 0., 0., 0.],\n",
       "       [0., 0., 0., 0.]])"
      ]
     },
     "execution_count": 26,
     "metadata": {},
     "output_type": "execute_result"
    }
   ],
   "source": [
    "np.zeros([3, 4])  # 生成 0 矩阵"
   ]
  },
  {
   "cell_type": "code",
   "execution_count": 28,
   "metadata": {
    "scrolled": true
   },
   "outputs": [
    {
     "data": {
      "text/plain": [
       "array([[1., 1., 1., 1.],\n",
       "       [1., 1., 1., 1.],\n",
       "       [1., 1., 1., 1.]])"
      ]
     },
     "execution_count": 28,
     "metadata": {},
     "output_type": "execute_result"
    }
   ],
   "source": [
    "np.ones([3, 4])  # 生成 单位 矩阵"
   ]
  },
  {
   "cell_type": "markdown",
   "metadata": {},
   "source": [
    "+ ### 1.1.2 三种拷贝数组方法"
   ]
  },
  {
   "cell_type": "code",
   "execution_count": 67,
   "metadata": {},
   "outputs": [],
   "source": [
    "matrix = np.array([[1,2,3],[4,5,6]])"
   ]
  },
  {
   "cell_type": "code",
   "execution_count": 68,
   "metadata": {},
   "outputs": [],
   "source": [
    "a1 = np.array(matrix)  # 按原来数组生成新数组\n",
    "a2 = np.asarray(matrix)  # a2 指向 matrix 的内存地址\n",
    "a3 = np.copy(matrix)  # 浅拷贝"
   ]
  },
  {
   "cell_type": "code",
   "execution_count": 69,
   "metadata": {
    "scrolled": true
   },
   "outputs": [
    {
     "name": "stdout",
     "output_type": "stream",
     "text": [
      "[[1 2 3]\n",
      " [4 5 6]]\n",
      "----------\n",
      "[[1 2 3]\n",
      " [4 5 6]]\n",
      "----------\n",
      "[[1 2 3]\n",
      " [4 5 6]]\n"
     ]
    }
   ],
   "source": [
    "print(a1)\n",
    "print('----------')\n",
    "print(a2)\n",
    "print('----------')\n",
    "print(a3)"
   ]
  },
  {
   "cell_type": "code",
   "execution_count": 70,
   "metadata": {},
   "outputs": [],
   "source": [
    "matrix[1] = 2"
   ]
  },
  {
   "cell_type": "code",
   "execution_count": 71,
   "metadata": {},
   "outputs": [
    {
     "name": "stdout",
     "output_type": "stream",
     "text": [
      "[[1 2 3]\n",
      " [4 5 6]]\n",
      "----------\n",
      "[[1 2 3]\n",
      " [2 2 2]]\n",
      "----------\n",
      "[[1 2 3]\n",
      " [4 5 6]]\n"
     ]
    }
   ],
   "source": [
    "print(a1)\n",
    "print('----------')\n",
    "print(a2)\n",
    "print('----------')\n",
    "print(a3)"
   ]
  },
  {
   "cell_type": "markdown",
   "metadata": {},
   "source": [
    "+ ## 1.2生成固定范围的数组"
   ]
  },
  {
   "cell_type": "markdown",
   "metadata": {},
   "source": [
    "### 1.2.1 生成等间隔的序列\n",
    "### np.linspace (start, stop, num, endpoint, retstep, dtype)1\n",
    "    start 序列的起始值\n",
    "    stop 序列的终止值，如果endpoint为true，该值包含于序列中\n",
    "    num 要生成的等间隔样例数量，默认为50\n",
    "    endpoint 序列中是否包含stop值，默认为ture\n",
    "    retstep 如果为true，返回样例，以及连续数字之间的步长\n",
    "    dtype 输出ndarray的数据类型`"
   ]
  },
  {
   "cell_type": "code",
   "execution_count": 74,
   "metadata": {},
   "outputs": [
    {
     "data": {
      "text/plain": [
       "array([  0.        ,  11.11111111,  22.22222222,  33.33333333,\n",
       "        44.44444444,  55.55555556,  66.66666667,  77.77777778,\n",
       "        88.88888889, 100.        ])"
      ]
     },
     "execution_count": 74,
     "metadata": {},
     "output_type": "execute_result"
    }
   ],
   "source": [
    "np.linspace(0, 100, 10)"
   ]
  },
  {
   "cell_type": "markdown",
   "metadata": {},
   "source": [
    "### 1.2.2 生成指定范围与步长的序列\n",
    "### numpy.arange(start,stop, step, dtype)"
   ]
  },
  {
   "cell_type": "code",
   "execution_count": 75,
   "metadata": {},
   "outputs": [
    {
     "data": {
      "text/plain": [
       "array([10, 12, 14, 16, 18, 20, 22, 24, 26, 28, 30, 32, 34, 36, 38, 40, 42,\n",
       "       44, 46, 48])"
      ]
     },
     "execution_count": 75,
     "metadata": {},
     "output_type": "execute_result"
    }
   ],
   "source": [
    "np.arange(10, 50, 2)"
   ]
  },
  {
   "cell_type": "markdown",
   "metadata": {},
   "source": [
    "### 1.2.3 生成等间隔的序列的对数\n",
    "### numpy.logspace(start,stop, num, endpoint, base, dtype)"
   ]
  },
  {
   "cell_type": "code",
   "execution_count": 78,
   "metadata": {},
   "outputs": [
    {
     "data": {
      "text/plain": [
       "array([1.00000000e+000, 1.29154967e+011, 1.66810054e+022, 2.15443469e+033,\n",
       "       2.78255940e+044, 3.59381366e+055, 4.64158883e+066, 5.99484250e+077,\n",
       "       7.74263683e+088, 1.00000000e+100])"
      ]
     },
     "execution_count": 78,
     "metadata": {},
     "output_type": "execute_result"
    }
   ],
   "source": [
    "np.logspace(0, 100, 10)"
   ]
  },
  {
   "cell_type": "markdown",
   "metadata": {},
   "source": [
    "+ ## 1.3生成随机数组"
   ]
  },
  {
   "cell_type": "markdown",
   "metadata": {},
   "source": [
    "### 1.3.1生成均匀分布的随机数"
   ]
  },
  {
   "cell_type": "code",
   "execution_count": 81,
   "metadata": {},
   "outputs": [
    {
     "data": {
      "text/plain": [
       "array([ 3.23763076e+00,  3.70260398e+00, -9.68346559e+00, -7.84683501e+00,\n",
       "       -4.93406382e+00, -9.06521878e+00,  9.87240108e+00, -3.54304575e+00,\n",
       "        6.05490014e+00,  6.21920731e-01,  5.51714629e+00, -5.86439646e+00,\n",
       "       -3.87334955e+00,  9.73726869e+00,  9.24326701e+00,  8.98768595e+00,\n",
       "       -5.56213912e+00,  4.78346911e+00, -1.25970970e+00, -7.17713004e-01,\n",
       "       -2.80911026e+00,  4.79580583e+00, -7.99311049e+00, -7.14738764e-01,\n",
       "       -2.18117588e+00,  1.92489903e+00, -4.97434460e+00, -2.55619841e+00,\n",
       "        1.89354449e+00,  5.57446328e+00, -8.65056178e+00,  4.41261741e+00,\n",
       "        4.92636097e+00, -4.52427811e+00, -8.97970741e+00, -7.08941708e+00,\n",
       "       -1.63102012e+00, -3.12028183e+00,  7.60703549e+00,  6.09947849e+00,\n",
       "       -4.83402458e+00, -5.46163439e+00, -7.03489884e+00, -9.69224954e+00,\n",
       "        8.74223434e+00,  2.33976127e+00,  7.65169573e+00,  6.45639325e+00,\n",
       "       -5.42843883e+00,  4.99952131e+00, -8.32502542e+00,  8.63138067e+00,\n",
       "       -4.12483736e+00, -9.77779041e+00,  1.72693774e+00, -9.96856824e+00,\n",
       "       -6.47511959e-01, -9.32182806e+00,  5.15657721e+00,  8.08703267e+00,\n",
       "        7.65442349e+00, -2.66490930e+00, -8.74747089e+00, -5.29599909e+00,\n",
       "       -2.16220742e+00,  9.26999643e+00, -4.73046503e+00,  6.38427084e+00,\n",
       "       -5.83428770e+00, -5.24680590e+00,  6.78327086e+00,  8.15800848e+00,\n",
       "        5.58660684e+00,  2.92832122e+00,  5.45189988e+00, -3.32718499e+00,\n",
       "        3.35271079e+00, -6.66297654e+00,  6.02419422e+00, -9.06747935e+00,\n",
       "        9.82491721e+00,  7.52617032e+00,  9.21340840e+00,  7.53306464e+00,\n",
       "       -2.04565942e+00,  3.84015767e+00,  2.94628713e-01, -8.56407240e+00,\n",
       "       -4.16563955e+00,  9.74175026e+00, -9.52608555e+00, -9.34094660e+00,\n",
       "       -7.79994645e+00,  3.27251243e+00,  4.77896870e+00, -9.22679489e+00,\n",
       "        5.15714608e+00,  9.55329389e+00,  9.50443500e+00, -8.14488979e+00,\n",
       "       -4.69933886e+00, -7.58210855e+00,  1.28377530e+00, -5.86532912e+00,\n",
       "        2.48034933e+00, -6.24063845e+00, -9.53344772e+00,  9.65865733e+00,\n",
       "        7.39282130e+00, -8.61928841e+00, -7.31382730e+00, -3.95569803e+00,\n",
       "        3.16225933e+00,  9.72553067e+00,  1.83803012e+00, -2.65322327e+00,\n",
       "       -4.49734448e+00, -2.42022473e+00,  5.45370489e+00,  8.06462589e+00,\n",
       "        6.20025901e+00, -3.05575990e+00, -8.61170139e+00,  3.69866259e+00,\n",
       "       -2.69454974e+00,  5.57454810e+00, -3.74454037e-01, -8.88582587e-01,\n",
       "        4.45301793e+00,  9.58363574e-01, -8.28394586e-01,  7.86143496e+00,\n",
       "        5.08600951e+00, -1.33646761e+00,  6.61289161e+00,  6.54771999e+00,\n",
       "        5.11575094e+00, -5.08779258e+00, -1.58383396e+00, -2.88450243e+00,\n",
       "        6.59887252e+00,  9.31189985e+00,  3.27282030e+00, -7.78053803e+00,\n",
       "       -5.10229686e+00,  9.89473210e-01,  6.55849495e+00, -7.12840829e+00,\n",
       "       -2.62299774e+00, -2.83983538e+00, -4.03023809e+00, -9.28933704e+00,\n",
       "       -2.44944870e+00,  5.90519796e+00, -8.67663897e+00, -3.65832678e+00,\n",
       "       -8.06249010e+00, -1.29703095e+00, -8.76035108e-01, -6.04417622e+00,\n",
       "       -6.44554913e-01,  6.78454958e+00,  2.36673750e-02, -2.59948673e+00,\n",
       "        5.21138496e+00,  1.14688015e+00, -1.16108137e+00, -5.24918039e+00,\n",
       "       -7.89809446e+00, -4.06653633e+00, -4.28439941e-01, -4.10720369e+00,\n",
       "        9.30233794e+00, -1.76897913e+00,  8.79716869e+00, -1.40464229e+00,\n",
       "        8.72513679e+00,  8.97815943e+00, -5.40407456e+00, -7.57879172e+00,\n",
       "        1.70125744e+00,  3.01956907e-01, -1.68332317e+00, -7.67526990e+00,\n",
       "        2.45241122e+00,  3.10918538e-01,  1.84649062e+00,  4.49808658e+00,\n",
       "       -4.22869181e+00,  6.06375080e+00,  1.40770496e+00, -1.46091573e-01,\n",
       "        1.10841553e+00, -3.12524112e+00, -4.05909720e+00, -4.21284136e+00,\n",
       "       -1.58946898e+00, -7.62808189e+00, -5.97628067e+00,  6.03996203e+00,\n",
       "        7.36713078e+00,  5.50293062e+00,  1.14406879e+00,  6.68677612e+00,\n",
       "        9.96362708e+00,  3.86911372e-01,  5.07291988e+00,  9.01024719e+00,\n",
       "       -7.89408314e+00, -6.40949151e+00, -1.40753226e+00,  4.24609329e+00,\n",
       "       -7.91239594e+00,  7.01573931e+00, -7.36317001e+00, -6.64754295e-01,\n",
       "        2.39226927e+00,  2.29108410e-01,  7.78887036e+00, -7.19964561e+00,\n",
       "       -5.80075109e+00, -4.12325352e+00, -4.33974943e+00, -2.28805220e+00,\n",
       "        9.25979601e+00,  7.02174929e+00,  8.42998037e+00, -8.32382443e+00,\n",
       "       -5.94559858e+00, -5.90105711e-01, -2.35202330e+00, -5.17303078e+00,\n",
       "        3.02188886e+00,  2.00960556e+00, -9.90318993e+00,  2.20652150e+00,\n",
       "        4.37563238e+00,  1.38836258e+00,  4.47708224e+00, -3.49597754e+00,\n",
       "       -4.53424523e+00, -9.01449996e+00, -9.46425747e+00,  3.79192658e+00,\n",
       "        7.26576148e+00, -7.12332564e+00,  7.95343456e+00, -6.44948507e+00,\n",
       "        7.95571582e+00, -4.76227363e+00,  6.08221374e+00,  3.13043044e+00,\n",
       "        1.60005756e+00, -1.29783428e-01,  7.30845746e+00,  7.00928340e+00,\n",
       "        6.94178433e+00, -1.55126048e+00, -3.52657171e+00, -6.27503121e+00,\n",
       "       -9.96825495e+00, -2.79033460e+00,  3.50227033e+00, -5.17882222e+00,\n",
       "        8.76171703e+00,  7.02116466e+00, -1.12510655e+00,  2.78386073e-01,\n",
       "        5.39411016e+00,  3.91868124e+00, -8.14032629e+00,  6.40975818e+00,\n",
       "        3.45826310e+00,  9.81723535e+00,  5.34269228e+00,  7.96073534e+00,\n",
       "        1.53941371e+00, -1.71161653e-01, -4.13871448e+00, -5.48368263e-01,\n",
       "        4.09673692e+00,  8.12853520e+00,  1.79918955e+00, -5.40982236e+00,\n",
       "       -9.17846881e+00,  2.10876557e+00, -7.23642507e+00,  4.02393469e+00,\n",
       "        2.51286212e+00,  9.00010522e+00, -8.02849513e+00,  6.92654658e+00,\n",
       "       -2.73988270e+00,  3.04588020e+00, -1.63250903e+00,  1.10151646e+00,\n",
       "       -7.88492381e+00, -2.25658683e+00, -1.77608578e+00, -5.41819154e-01,\n",
       "        6.09315445e-01, -4.58301017e+00, -1.19416183e+00,  8.07977078e+00,\n",
       "        6.29307157e+00,  7.86720380e+00, -5.67673725e+00,  2.07265141e+00,\n",
       "       -3.84622959e+00, -3.62716735e+00,  5.25016783e+00, -7.81384445e+00,\n",
       "        1.68137120e-01, -4.68788423e+00,  3.31333172e-01,  4.60402089e+00,\n",
       "        9.45615518e+00, -3.69190440e+00,  1.11095172e+00,  1.43667914e+00,\n",
       "       -2.41552168e-01,  8.71576354e+00, -2.17492803e+00, -4.53034525e+00,\n",
       "        2.89528947e+00,  1.48311139e+00,  5.53954828e+00, -1.52209867e+00,\n",
       "        1.46036304e+00,  4.50648407e+00,  4.18158152e+00, -4.08338627e+00,\n",
       "        1.41930959e+00,  5.36110906e-01,  7.21049406e+00,  2.73454454e+00,\n",
       "       -2.30456616e+00, -1.36818824e+00,  4.81461549e+00,  4.30752929e+00,\n",
       "        3.96946890e+00,  3.24753364e+00, -8.08068705e+00, -1.45038715e+00,\n",
       "       -3.26855804e+00,  3.85848477e+00, -9.40162274e+00, -2.85773621e+00,\n",
       "       -1.21591272e+00, -3.33501598e+00, -8.91768348e+00, -8.89939965e+00,\n",
       "        9.51038795e+00, -4.60277076e+00, -9.00701137e+00, -6.82980304e+00,\n",
       "       -4.89155135e+00,  9.44779384e+00,  6.42267054e+00,  5.88669933e+00,\n",
       "       -6.03799801e+00,  4.45800591e+00,  1.66483623e+00, -8.25396805e-01,\n",
       "       -4.47713010e+00, -4.62850894e-01,  4.57956729e+00,  1.19421051e-02,\n",
       "       -5.13738525e+00, -6.91382683e+00, -5.70190276e+00,  6.21518557e+00,\n",
       "        2.62873261e+00,  6.65467250e+00, -3.25255820e+00,  6.24376005e+00,\n",
       "        9.80757686e+00,  1.25303581e-01, -9.87988896e+00, -7.42192760e+00,\n",
       "        2.97859777e+00,  6.82545522e+00,  9.84529184e+00,  3.04667109e+00,\n",
       "        9.20183848e+00, -7.26741529e+00,  6.27558260e+00,  9.75558998e+00,\n",
       "        8.75049070e+00, -1.03193575e+00,  6.64451623e+00,  6.01601477e+00,\n",
       "        3.58266859e+00, -8.48987654e+00,  7.39198167e+00,  7.15076206e+00,\n",
       "       -7.45231551e+00, -7.56756818e+00, -1.51402176e+00, -3.73828694e-01,\n",
       "       -9.32653804e+00, -4.79916820e-01, -7.40559527e+00,  9.28015565e+00,\n",
       "       -8.93484212e+00,  8.96286415e+00,  6.91357913e+00, -3.72588221e+00,\n",
       "        2.43410773e+00,  7.13072599e+00, -1.14382287e+00,  1.21625079e+00,\n",
       "       -5.32638185e+00, -8.36305227e+00,  4.68695836e+00,  8.77368980e-01,\n",
       "       -7.93833705e+00, -3.38659403e+00, -5.03791916e+00,  3.61509479e+00,\n",
       "        2.41721357e+00, -8.98526512e+00, -6.70369205e+00, -8.51683462e+00,\n",
       "        8.25852997e+00,  9.39895716e+00, -3.27893676e+00,  6.88421484e+00,\n",
       "        3.17304048e+00, -9.63948361e+00,  7.29755433e-01, -5.92915072e+00,\n",
       "        2.66045539e+00,  4.03142688e-01,  9.01933410e+00,  3.65093454e+00,\n",
       "       -9.65884477e+00,  8.64353806e+00,  2.63900112e+00, -9.09264428e-01,\n",
       "        7.78343673e-01,  5.69751485e+00, -5.50014407e+00, -8.87083471e+00,\n",
       "        1.73573661e-01, -4.08956649e+00, -4.15475538e+00,  2.90250244e+00,\n",
       "        3.21785872e+00,  6.58596101e+00, -9.16452782e+00,  6.58462661e+00,\n",
       "       -5.91095227e+00,  8.66049613e+00, -5.24233880e+00, -8.88794687e+00,\n",
       "       -2.85502965e+00,  5.10493097e-01, -9.88731736e+00, -1.02905334e+00,\n",
       "       -5.99981950e+00,  7.54691835e+00,  6.11965149e+00,  3.37758137e-01,\n",
       "        3.37634376e+00, -3.97937979e+00, -3.59684045e+00, -8.21796050e+00,\n",
       "       -9.04450810e+00, -1.92063750e+00, -5.70272347e+00, -8.56797594e+00,\n",
       "       -2.45881620e-01, -2.93105872e+00,  3.04570402e+00, -5.25690868e+00,\n",
       "        6.85784782e+00, -5.73894738e+00, -2.19129369e+00,  3.57403186e+00,\n",
       "        8.43795988e+00,  4.99467943e+00, -8.60764652e+00,  7.66245902e+00,\n",
       "        9.29366887e-01,  3.05987605e+00, -5.69114054e+00, -8.14404401e+00,\n",
       "        6.92322019e+00, -7.10940759e+00, -7.37590433e+00,  9.59783412e+00,\n",
       "       -4.15621463e+00,  1.12824420e+00, -9.43643642e-01, -5.31824702e+00,\n",
       "        8.33172524e+00, -3.11054745e+00, -3.23727782e+00,  9.84144543e+00,\n",
       "       -5.48569647e+00, -8.34299011e+00, -9.07464815e+00, -7.69270388e+00,\n",
       "        6.71548095e+00, -6.37634083e+00,  2.98475997e+00,  8.89778023e+00,\n",
       "        3.78940545e+00,  2.88121506e+00,  9.23164050e+00,  6.33272190e+00,\n",
       "       -2.09745204e+00,  9.32798630e+00, -9.33246307e+00,  5.79731636e+00,\n",
       "        9.30049166e+00, -3.76701494e+00,  1.32679045e+00, -8.81316431e+00,\n",
       "       -8.83840985e+00, -6.61125328e+00,  8.97718392e+00, -7.88886733e+00,\n",
       "        9.81479711e+00, -5.04603163e+00, -7.21659746e+00,  1.53654388e+00,\n",
       "        3.41177973e+00, -2.43705601e+00, -3.18599965e+00, -9.44346594e-01,\n",
       "        6.48154117e+00, -3.98893528e-01,  5.99728432e+00, -8.19775715e+00,\n",
       "       -4.25022285e+00, -3.56198854e+00,  5.47000841e+00, -1.59622996e+00,\n",
       "       -1.12655752e+00,  1.22336013e+00, -6.61849395e+00, -2.47237806e-01,\n",
       "        2.00634146e+00, -9.06543156e+00, -8.87143619e+00, -5.88879984e-01,\n",
       "       -4.64443869e+00, -5.60783717e+00,  7.34744474e+00, -9.99078071e+00,\n",
       "        4.84711790e+00, -2.39314016e+00, -6.96545494e+00, -4.03403518e+00,\n",
       "        2.15834172e+00, -4.10477610e+00, -1.28129951e+00, -6.09560842e+00,\n",
       "       -8.77089893e+00,  6.81598952e+00,  6.91033013e+00, -4.91716233e+00,\n",
       "       -1.00524020e-02,  8.14461244e+00,  5.58243299e+00, -8.21413312e+00,\n",
       "        6.16906650e+00, -1.89672270e+00,  3.11610926e+00,  8.03540306e+00,\n",
       "        4.19305628e-01, -9.53103791e-01,  7.53066531e+00, -4.70784664e+00,\n",
       "       -3.44045298e+00, -8.73520107e+00, -8.95493105e+00,  7.86860629e+00,\n",
       "        4.18234957e+00,  7.62167474e+00,  7.88770885e+00,  8.55659310e+00,\n",
       "       -6.11992805e-01, -4.26785035e+00, -4.43795472e+00, -2.41343691e+00,\n",
       "        7.81392268e+00, -5.97640825e+00,  4.96348885e+00,  3.34538694e+00,\n",
       "       -7.60902385e+00,  4.58239270e+00,  9.67499399e+00, -5.01679367e+00,\n",
       "       -1.95095896e+00,  4.54285317e+00,  7.06112776e+00, -3.57874377e+00,\n",
       "       -1.44109848e+00, -9.76817313e+00, -3.64530956e-01, -2.23519756e+00,\n",
       "        6.95949132e+00, -8.73239009e+00, -8.28773093e+00, -5.02511565e-01,\n",
       "       -7.22487585e+00,  6.51020570e+00,  1.90921136e+00,  6.45881464e+00,\n",
       "        5.06162792e+00,  9.56957380e+00, -6.98510676e+00, -4.06123843e+00,\n",
       "       -4.05818469e+00,  8.32818683e+00,  6.12680479e+00, -9.66209202e+00,\n",
       "       -6.88514957e+00, -3.51966399e+00, -7.87400561e+00, -4.44999598e+00,\n",
       "        9.68631550e+00,  7.99183126e+00, -5.19710721e+00, -6.00254155e+00,\n",
       "       -1.88430878e+00,  4.81819790e-01,  4.73617229e+00, -3.71530847e+00,\n",
       "        5.94092910e+00,  1.67999820e+00, -9.47471861e+00,  7.88817908e+00,\n",
       "       -8.75995833e+00, -9.98970979e+00, -1.16359228e-01, -4.60940878e+00,\n",
       "       -7.11808995e+00, -8.23377251e+00, -4.39595130e+00, -2.57364507e+00,\n",
       "        8.35382471e+00,  2.29523699e+00,  4.43239708e+00,  5.90203463e+00,\n",
       "        9.10440428e+00,  7.13638064e+00, -5.92943021e+00,  5.24510672e+00,\n",
       "        6.00001333e+00, -5.18755238e-01,  7.88840923e+00, -7.44373211e+00,\n",
       "       -9.38019717e-02,  8.74428275e-01,  9.51109232e+00, -9.37532684e+00,\n",
       "        1.69175771e+00, -3.50310239e+00,  4.76510955e+00, -6.26654720e+00,\n",
       "       -7.13788390e+00, -1.54850482e+00, -7.87108573e+00,  9.98368597e+00,\n",
       "       -9.13054208e+00,  9.73093586e+00,  9.29991592e+00,  4.68715002e+00,\n",
       "        6.89397596e+00,  3.50538494e+00,  7.10174235e+00,  4.46980585e+00,\n",
       "        6.10083391e+00, -7.38133032e+00, -9.53802099e+00, -4.58781650e+00,\n",
       "        5.43279650e+00,  3.31831092e-01, -5.51602902e+00,  1.63573350e-02,\n",
       "        6.51470828e+00, -4.40638241e+00, -1.73898272e+00, -9.22928645e+00,\n",
       "       -3.52487278e+00,  2.72540261e+00, -2.34809835e+00, -3.84667387e+00,\n",
       "        6.79298301e+00, -3.08353571e+00, -2.80152755e+00,  2.88353598e+00,\n",
       "        1.98424716e+00,  6.71127455e+00,  6.43420816e+00, -2.59605058e+00,\n",
       "       -7.54616728e+00, -7.24850431e+00,  5.78948915e+00,  9.73689659e+00,\n",
       "        4.94562796e+00, -9.83344853e+00, -8.28168258e+00, -9.74317734e+00,\n",
       "       -9.36206691e-01, -5.38574694e+00,  6.86144976e+00,  2.42593602e+00,\n",
       "       -4.09832381e+00, -4.44216175e+00, -1.76219561e+00,  4.41257233e+00,\n",
       "       -3.48567071e+00,  3.95573104e+00,  5.10156933e+00, -2.56741179e+00,\n",
       "        9.51727533e-01, -7.11416433e+00,  6.15698641e+00, -4.27775298e-01,\n",
       "       -6.48120488e+00, -1.88820502e+00,  6.48940208e-01,  2.29885763e+00,\n",
       "       -9.60692319e+00, -8.93824173e-01,  1.18107067e+00,  2.69110053e+00,\n",
       "       -8.24538773e+00, -9.48905114e+00, -5.91653067e+00, -5.02726867e+00,\n",
       "        1.64011712e+00, -2.12862006e+00,  4.57022294e+00,  2.88380032e+00,\n",
       "       -9.15007146e+00,  8.51045812e-01, -3.31314159e-01, -4.31078167e+00,\n",
       "       -4.70998200e+00, -9.42479073e+00, -8.51886718e+00,  9.86828440e+00,\n",
       "        2.85117522e+00, -4.46320128e+00, -9.10490945e+00, -4.84294429e+00,\n",
       "        7.25595433e+00, -6.54134934e+00, -9.04807923e+00,  5.72405868e+00,\n",
       "       -8.15775798e+00, -2.60526168e+00,  2.94220068e+00, -9.54128321e+00,\n",
       "       -8.89038568e+00, -6.59201220e+00, -3.17479098e+00, -5.72139956e+00,\n",
       "        9.34415795e+00, -5.59556639e+00, -1.60894370e-01,  3.37667346e+00,\n",
       "        4.32271851e+00, -4.94111447e-01,  6.13419670e+00,  3.33131474e+00,\n",
       "       -6.71234392e+00, -2.15752184e+00,  2.25328423e+00,  4.59320913e+00,\n",
       "       -7.39802729e+00, -4.48251515e+00, -5.39766059e+00,  7.05152579e+00,\n",
       "        8.01894114e+00, -1.07161225e+00,  9.86812669e+00, -2.99965439e+00,\n",
       "       -2.43133391e+00,  1.14852051e+00,  8.15730414e+00, -5.17983633e+00,\n",
       "       -1.12705351e+00,  2.51703541e+00, -2.67291543e+00,  7.20599698e+00,\n",
       "        9.75615034e+00,  3.17993908e+00,  1.52066140e+00, -8.72395683e+00,\n",
       "        7.14782117e+00, -7.55452692e+00,  3.44625459e+00,  3.57965651e+00,\n",
       "        1.57214003e+00,  8.81348511e+00, -7.41557014e+00,  3.29568797e+00,\n",
       "       -7.43234319e+00,  6.26986257e+00,  3.93490454e+00, -9.58548369e+00,\n",
       "        8.94990868e+00, -3.35009548e+00,  8.11948685e+00, -3.76731422e+00,\n",
       "        4.68362811e+00,  5.97904292e+00,  1.83965154e-03,  4.48988482e+00,\n",
       "        4.82761414e-01, -7.32727700e+00,  5.33383898e+00,  5.34996267e+00,\n",
       "       -2.62474510e+00,  2.90710310e+00,  1.58140252e+00,  2.83279687e+00,\n",
       "       -8.42799949e+00,  9.97399587e+00,  2.14044584e+00, -3.41661547e+00,\n",
       "        1.70768595e+00, -6.15191487e-02,  3.00873265e-01, -6.76787123e+00,\n",
       "       -4.40155995e+00, -5.81337391e+00,  4.43612965e+00, -7.59242845e+00,\n",
       "        4.12703533e+00, -1.90605779e-01,  4.16780255e+00, -7.88361623e-01,\n",
       "       -7.95224775e+00,  3.31754458e+00,  6.15229360e+00, -7.22612180e+00,\n",
       "        4.78573105e-01,  5.54418396e+00,  4.95058471e+00,  4.11517738e+00,\n",
       "        3.44806514e+00, -5.78211874e+00,  5.12997352e+00,  5.58435439e+00,\n",
       "       -7.33753748e+00, -9.09854698e+00, -4.85691746e+00, -5.59082154e+00,\n",
       "        5.21898132e+00, -7.86559968e+00, -9.87323175e+00, -8.06830166e+00,\n",
       "       -5.02244703e+00,  5.26701013e+00, -2.14271508e+00, -7.16529381e+00,\n",
       "       -5.91331907e+00,  7.79896491e+00, -6.34020911e+00,  4.79196925e+00,\n",
       "       -2.83233144e+00,  7.79633712e+00,  1.06227389e+00,  2.66083900e+00,\n",
       "       -2.35754306e+00, -4.28834810e+00, -7.66981010e+00, -4.23122382e+00,\n",
       "        9.96204306e+00,  5.83533169e-01, -3.55979812e+00,  7.78226325e+00,\n",
       "        1.63250490e-01,  6.87913495e-01,  9.65540137e-01,  5.79507410e+00,\n",
       "        9.65469051e-01, -4.29211604e+00,  7.39192252e+00,  7.35660396e+00,\n",
       "       -1.05349125e+00, -9.04038421e+00, -7.60681128e+00,  1.92174760e+00,\n",
       "       -6.98143127e+00,  4.59346580e+00,  8.60507738e+00,  8.94773529e+00,\n",
       "       -7.09620622e+00, -9.53622416e+00, -5.63618413e+00,  9.13050876e-02,\n",
       "       -9.02397993e-01,  4.27380451e+00,  1.73528417e+00,  5.16257961e+00,\n",
       "        6.54291856e+00,  1.27998428e+00,  9.64106377e+00, -9.07257359e+00,\n",
       "        7.21797869e+00,  3.63841682e+00,  3.76447457e+00,  9.73059967e+00,\n",
       "       -1.71223348e+00, -9.32086117e+00,  2.50165251e+00, -2.60970141e+00,\n",
       "       -7.14609607e-01, -7.47942521e+00,  7.87859143e+00,  7.27859693e+00,\n",
       "       -4.52744467e+00, -5.03381870e+00, -9.79939053e+00, -9.46407605e-02,\n",
       "        7.87254852e+00,  1.85775274e+00,  6.62415958e+00, -1.71466523e+00,\n",
       "       -8.77433654e-01,  4.03829920e+00,  6.75635017e+00,  4.19651487e+00,\n",
       "       -5.92404489e+00,  7.74339977e+00, -6.98158827e+00, -6.24992146e+00,\n",
       "       -3.59563322e+00,  8.70154895e+00,  1.74935960e+00,  2.23583196e+00,\n",
       "        5.09262838e+00, -9.27131856e+00, -8.69695222e+00, -8.62489952e+00,\n",
       "       -9.10114006e+00, -3.17469161e+00,  6.66628705e+00, -2.00891062e+00,\n",
       "        3.08512045e+00, -3.53615728e+00, -6.67274278e+00,  4.70086699e+00,\n",
       "        2.83452677e+00,  3.92888565e+00, -1.67872273e+00, -5.73801020e+00,\n",
       "        7.24208792e+00, -5.94357069e+00,  6.41025529e+00,  8.07461587e-01,\n",
       "       -1.43344689e+00,  5.87058252e+00,  6.15774263e+00,  6.63188931e+00,\n",
       "       -4.94459700e+00, -1.24762621e+00, -3.54597362e+00, -1.42225818e-01,\n",
       "        8.91845480e+00, -8.47810597e+00,  5.06139469e+00,  5.07827336e-01,\n",
       "       -7.99614753e+00,  2.28551619e+00,  2.25271180e+00, -5.01261019e+00,\n",
       "       -9.19904431e+00,  1.64370118e+00, -5.60182823e+00,  5.93057568e+00,\n",
       "       -4.80687608e-01,  1.65797169e+00,  5.23131827e+00, -8.90066346e+00,\n",
       "        5.40515452e+00,  9.67555658e+00, -8.90813280e+00,  2.02408075e-02,\n",
       "        3.18831406e+00, -9.04605939e+00,  3.74981403e+00,  9.65449354e+00,\n",
       "       -6.23837312e+00,  5.29089442e+00,  4.40414998e+00, -9.32887015e+00,\n",
       "       -2.17942427e+00,  6.45332905e+00,  8.73259209e-01, -1.52267772e+00])"
      ]
     },
     "execution_count": 81,
     "metadata": {},
     "output_type": "execute_result"
    }
   ],
   "source": [
    "np.random.uniform(-10, 10, 1000)  # 下限，上限，数量"
   ]
  },
  {
   "cell_type": "code",
   "execution_count": 86,
   "metadata": {},
   "outputs": [
    {
     "data": {
      "image/png": "[encoded data removed]",
      "text/plain": [
       "<Figure size 2000x800 with 1 Axes>"
      ]
     },
     "metadata": {
      "needs_background": "light"
     },
     "output_type": "display_data"
    }
   ],
   "source": [
    "import matplotlib.pyplot as plt\n",
    "\n",
    "# 生成均匀分布的随机数\n",
    "x1 = np.random.uniform(-10, 10, 100000)\n",
    "\n",
    "# 画图看分布状况\n",
    "# 1）创建画布\n",
    "plt.figure(figsize=(20, 8), dpi=100)\n",
    "\n",
    "# 2）绘制直方图\n",
    "plt.hist(x1, 500)\n",
    "\n",
    "# 3）显示图像\n",
    "plt.show()"
   ]
  },
  {
   "cell_type": "markdown",
   "metadata": {},
   "source": [
    "### 1.3.2 生成[0，1)内的一组均匀分布的数。"
   ]
  },
  {
   "cell_type": "code",
   "execution_count": 96,
   "metadata": {},
   "outputs": [
    {
     "data": {
      "text/plain": [
       "array([0.12472824, 0.27436949, 0.28822619, 0.32400447, 0.153755  ])"
      ]
     },
     "execution_count": 96,
     "metadata": {},
     "output_type": "execute_result"
    }
   ],
   "source": [
    "np.random.random(5)  # 数量"
   ]
  },
  {
   "cell_type": "markdown",
   "metadata": {},
   "source": [
    "### 1.3.3 从一个均匀分布中随机采样，生成一个整数或N维整数数组"
   ]
  },
  {
   "cell_type": "code",
   "execution_count": 104,
   "metadata": {},
   "outputs": [
    {
     "data": {
      "text/plain": [
       "array([[7, 6],\n",
       "       [7, 6],\n",
       "       [5, 5],\n",
       "       [5, 5],\n",
       "       [5, 5],\n",
       "       [6, 7],\n",
       "       [7, 7],\n",
       "       [5, 6],\n",
       "       [5, 6],\n",
       "       [6, 7]])"
      ]
     },
     "execution_count": 104,
     "metadata": {},
     "output_type": "execute_result"
    }
   ],
   "source": [
    "np.random.randint(5,8,(10,2))  # 下限，上限，维数"
   ]
  },
  {
   "cell_type": "markdown",
   "metadata": {},
   "source": [
    "### 1.3.4 从标准正态分布中返回一个或多个样本值"
   ]
  },
  {
   "cell_type": "code",
   "execution_count": 105,
   "metadata": {},
   "outputs": [
    {
     "data": {
      "text/plain": [
       "array([-0.63573584,  1.65536846,  0.5980114 ,  0.4725335 ,  1.28853236,\n",
       "        0.07844663,  0.47783348,  2.80160392, -0.00706367, -0.37330845])"
      ]
     },
     "execution_count": 105,
     "metadata": {},
     "output_type": "execute_result"
    }
   ],
   "source": [
    "np.random.randn(10)"
   ]
  },
  {
   "cell_type": "markdown",
   "metadata": {},
   "source": [
    "### 1.3.5 按照给定均值、标准差生成正态分布序列"
   ]
  },
  {
   "cell_type": "code",
   "execution_count": 123,
   "metadata": {},
   "outputs": [],
   "source": [
    "a = np.random.normal(2,0.5,1000000)  # 均值，标准差，shape"
   ]
  },
  {
   "cell_type": "code",
   "execution_count": 125,
   "metadata": {},
   "outputs": [
    {
     "data": {
      "image/png": "[encoded data removed]",
      "text/plain": [
       "<Figure size 2000x800 with 1 Axes>"
      ]
     },
     "metadata": {
      "needs_background": "light"
     },
     "output_type": "display_data"
    }
   ],
   "source": [
    "plt.figure(figsize=(20,8),dpi=100)\n",
    "plt.hist(a,1000)\n",
    "plt.show()"
   ]
  },
  {
   "cell_type": "markdown",
   "metadata": {},
   "source": [
    "### 案例：随机生成8只股票2周的交易日涨幅数据"
   ]
  },
  {
   "cell_type": "code",
   "execution_count": 126,
   "metadata": {},
   "outputs": [
    {
     "data": {
      "text/plain": [
       "array([[ 2.92538586e-01, -5.50434338e-01,  1.63072227e+00,\n",
       "        -4.80026162e-01,  1.27237766e+00, -5.15053084e-01,\n",
       "        -1.85602695e-01,  6.64980423e-01, -4.19049909e-01,\n",
       "         6.42242636e-01],\n",
       "       [ 4.14754924e-01,  8.78674055e-01, -9.12925368e-01,\n",
       "         4.25168119e-03,  6.87788277e-01, -3.59498879e-01,\n",
       "        -3.90961489e-01, -3.73611978e-01,  6.11731064e-01,\n",
       "         4.42928320e-01],\n",
       "       [ 1.05567646e+00,  8.43948954e-01,  8.82474481e-01,\n",
       "         1.04768394e+00, -9.24594162e-01,  1.06007438e+00,\n",
       "         9.18962838e-01,  1.56015254e-01,  3.80547608e-01,\n",
       "        -3.73485833e-01],\n",
       "       [-4.76730329e-02,  6.59235496e-01, -3.94118730e-02,\n",
       "        -7.91823870e-03,  6.51822175e-01,  2.50711615e-01,\n",
       "        -2.65760696e-01, -1.61450989e-01,  6.96079597e-01,\n",
       "        -5.12535476e-02],\n",
       "       [ 1.38032315e+00, -5.36910053e-01, -1.30552000e+00,\n",
       "        -4.44247364e-01,  7.23186623e-01,  5.59899181e-01,\n",
       "         1.70589054e+00,  2.01007176e+00,  2.06281594e+00,\n",
       "         1.81678812e+00],\n",
       "       [-5.32246839e-01, -6.08754676e-01,  2.59757140e+00,\n",
       "        -2.24810459e-02,  1.52228015e+00,  1.54389121e-01,\n",
       "         1.35484215e-03,  4.61460111e-01,  1.17765093e+00,\n",
       "         1.65297463e+00],\n",
       "       [-7.92226168e-01, -1.00856302e+00, -1.24420721e+00,\n",
       "        -5.13617781e-02, -7.85861594e-02,  5.15118494e-01,\n",
       "         1.34204233e+00,  4.08651679e-01,  1.13630493e+00,\n",
       "        -6.52674063e-01],\n",
       "       [ 1.02548693e-01, -4.21392825e-01,  1.49062683e+00,\n",
       "        -1.32609467e+00, -1.28867774e+00, -1.08519789e-01,\n",
       "         3.95568664e-01,  1.68498137e-01, -1.37613875e+00,\n",
       "         3.01057037e-01]])"
      ]
     },
     "execution_count": 126,
     "metadata": {},
     "output_type": "execute_result"
    }
   ],
   "source": [
    "# 创建符合正态分布的8只股票10天的涨跌幅数据\n",
    "stock_change = np.random.normal(0, 1, (8, 10))\n",
    "stock_change"
   ]
  },
  {
   "cell_type": "code",
   "execution_count": 129,
   "metadata": {},
   "outputs": [
    {
     "data": {
      "image/png": "[encoded data removed]",
      "text/plain": [
       "<Figure size 2000x800 with 1 Axes>"
      ]
     },
     "metadata": {
      "needs_background": "light"
     },
     "output_type": "display_data"
    }
   ],
   "source": [
    "plt.figure(figsize=(20,8),dpi=100)\n",
    "plt.plot(stock_change)\n",
    "plt.show()"
   ]
  },
  {
   "cell_type": "markdown",
   "metadata": {},
   "source": [
    "## 1.4、数组的索引、切片"
   ]
  },
  {
   "cell_type": "code",
   "execution_count": 130,
   "metadata": {},
   "outputs": [
    {
     "data": {
      "text/plain": [
       "array([ 0.29253859, -0.55043434,  1.63072227])"
      ]
     },
     "execution_count": 130,
     "metadata": {},
     "output_type": "execute_result"
    }
   ],
   "source": [
    "# 二维的数组，两个维度 \n",
    "stock_change[0, 0:3]"
   ]
  },
  {
   "cell_type": "code",
   "execution_count": 132,
   "metadata": {},
   "outputs": [
    {
     "data": {
      "text/plain": [
       "2"
      ]
     },
     "execution_count": 132,
     "metadata": {},
     "output_type": "execute_result"
    }
   ],
   "source": [
    "# 三维\n",
    "a1 = np.array([ [[1,2,3],[4,5,6]], [[12,3,34],[5,6,7]]])\n",
    "a1[0, 0, 1]"
   ]
  },
  {
   "cell_type": "markdown",
   "metadata": {},
   "source": [
    "## 1.5、形状修改"
   ]
  },
  {
   "cell_type": "markdown",
   "metadata": {},
   "source": [
    "### 1.5.1变换行列"
   ]
  },
  {
   "cell_type": "code",
   "execution_count": 133,
   "metadata": {},
   "outputs": [
    {
     "data": {
      "text/plain": [
       "array([[ 2.92538586e-01, -5.50434338e-01,  1.63072227e+00,\n",
       "        -4.80026162e-01,  1.27237766e+00, -5.15053084e-01,\n",
       "        -1.85602695e-01,  6.64980423e-01, -4.19049909e-01,\n",
       "         6.42242636e-01,  4.14754924e-01,  8.78674055e-01,\n",
       "        -9.12925368e-01,  4.25168119e-03,  6.87788277e-01,\n",
       "        -3.59498879e-01, -3.90961489e-01, -3.73611978e-01,\n",
       "         6.11731064e-01,  4.42928320e-01],\n",
       "       [ 1.05567646e+00,  8.43948954e-01,  8.82474481e-01,\n",
       "         1.04768394e+00, -9.24594162e-01,  1.06007438e+00,\n",
       "         9.18962838e-01,  1.56015254e-01,  3.80547608e-01,\n",
       "        -3.73485833e-01, -4.76730329e-02,  6.59235496e-01,\n",
       "        -3.94118730e-02, -7.91823870e-03,  6.51822175e-01,\n",
       "         2.50711615e-01, -2.65760696e-01, -1.61450989e-01,\n",
       "         6.96079597e-01, -5.12535476e-02],\n",
       "       [ 1.38032315e+00, -5.36910053e-01, -1.30552000e+00,\n",
       "        -4.44247364e-01,  7.23186623e-01,  5.59899181e-01,\n",
       "         1.70589054e+00,  2.01007176e+00,  2.06281594e+00,\n",
       "         1.81678812e+00, -5.32246839e-01, -6.08754676e-01,\n",
       "         2.59757140e+00, -2.24810459e-02,  1.52228015e+00,\n",
       "         1.54389121e-01,  1.35484215e-03,  4.61460111e-01,\n",
       "         1.17765093e+00,  1.65297463e+00],\n",
       "       [-7.92226168e-01, -1.00856302e+00, -1.24420721e+00,\n",
       "        -5.13617781e-02, -7.85861594e-02,  5.15118494e-01,\n",
       "         1.34204233e+00,  4.08651679e-01,  1.13630493e+00,\n",
       "        -6.52674063e-01,  1.02548693e-01, -4.21392825e-01,\n",
       "         1.49062683e+00, -1.32609467e+00, -1.28867774e+00,\n",
       "        -1.08519789e-01,  3.95568664e-01,  1.68498137e-01,\n",
       "        -1.37613875e+00,  3.01057037e-01]])"
      ]
     },
     "execution_count": 133,
     "metadata": {},
     "output_type": "execute_result"
    }
   ],
   "source": [
    "# 在转换形状的时候，一定要注意数组的元素匹配\n",
    "stock_change.reshape([10, 8]) # 只是将形状进行了修改，但并没有将行列进行转换\n",
    "stock_change.reshape([-1,20])  # 数组的形状被修改为: (4, 20), -1: 表示通过待计算"
   ]
  },
  {
   "cell_type": "markdown",
   "metadata": {},
   "source": [
    "### 1.5.2 转置"
   ]
  },
  {
   "cell_type": "code",
   "execution_count": 135,
   "metadata": {},
   "outputs": [
    {
     "name": "stdout",
     "output_type": "stream",
     "text": [
      "(8, 10)\n",
      "(10, 8)\n"
     ]
    }
   ],
   "source": [
    "print(stock_change.shape)\n",
    "print(stock_change.T.shape)"
   ]
  },
  {
   "cell_type": "markdown",
   "metadata": {},
   "source": [
    "### 1.5.3 修改原始数据的形状"
   ]
  },
  {
   "cell_type": "code",
   "execution_count": null,
   "metadata": {},
   "outputs": [],
   "source": [
    "stock_change.resize([10, 8])  # 没有返回值，直接对原始数据进行转换"
   ]
  },
  {
   "cell_type": "markdown",
   "metadata": {},
   "source": [
    "## 1.6、类型修改"
   ]
  },
  {
   "cell_type": "code",
   "execution_count": 137,
   "metadata": {},
   "outputs": [
    {
     "data": {
      "text/plain": [
       "array([[ 0,  0,  1,  0,  1,  0,  0,  0],\n",
       "       [ 0,  0,  0,  0,  0,  0,  0,  0],\n",
       "       [ 0,  0,  0,  0,  1,  0,  0,  1],\n",
       "       [ 0,  1,  0,  0,  0,  0,  0,  0],\n",
       "       [ 0,  0,  0,  0,  0,  0,  0,  0],\n",
       "       [ 1,  0, -1,  0,  0,  0,  1,  2],\n",
       "       [ 2,  1,  0,  0,  2,  0,  1,  0],\n",
       "       [ 0,  0,  1,  1,  0, -1, -1,  0],\n",
       "       [ 0,  0,  1,  0,  1,  0,  0,  0],\n",
       "       [ 1, -1, -1,  0,  0,  0, -1,  0]])"
      ]
     },
     "execution_count": 137,
     "metadata": {},
     "output_type": "execute_result"
    }
   ],
   "source": [
    "stock_change.astype(np.int32)"
   ]
  },
  {
   "cell_type": "markdown",
   "metadata": {},
   "source": [
    "## 1.7、数组去重"
   ]
  },
  {
   "cell_type": "code",
   "execution_count": 138,
   "metadata": {},
   "outputs": [
    {
     "data": {
      "text/plain": [
       "array([1, 2, 3, 4, 5, 6])"
      ]
     },
     "execution_count": 138,
     "metadata": {},
     "output_type": "execute_result"
    }
   ],
   "source": [
    "temp = np.array([[1, 2, 3, 4],[3, 4, 5, 6]])\n",
    "np.unique(temp)"
   ]
  },
  {
   "cell_type": "markdown",
   "metadata": {},
   "source": [
    "# 二、数组运算"
   ]
  },
  {
   "cell_type": "markdown",
   "metadata": {},
   "source": [
    "## 2.1 逻辑运算"
   ]
  },
  {
   "cell_type": "code",
   "execution_count": 142,
   "metadata": {},
   "outputs": [
    {
     "data": {
      "text/plain": [
       "array([[ True, False,  True,  True, False],\n",
       "       [False, False, False, False, False],\n",
       "       [False,  True, False, False,  True],\n",
       "       [False, False,  True, False,  True],\n",
       "       [False, False,  True, False,  True]])"
      ]
     },
     "execution_count": 142,
     "metadata": {},
     "output_type": "execute_result"
    }
   ],
   "source": [
    "# 重新生成8只股票10个交易日的涨跌幅数据\n",
    "stock_change = np.random.normal(0, 1, (8, 10))\n",
    "stock_change = stock_change[0:5, 0:5]\n",
    "# 逻辑判断, 如果涨跌幅大于0.5就标记为True 否则为False\n",
    "stock_change > 0.5"
   ]
  },
  {
   "cell_type": "code",
   "execution_count": 147,
   "metadata": {},
   "outputs": [
    {
     "data": {
      "text/plain": [
       "array([[ 1.        , -0.49762022,  1.        ,  1.        ,  0.0956657 ],\n",
       "       [-0.81460797, -1.84958066, -0.1410586 ,  0.22022268, -0.49050331],\n",
       "       [-0.28749073,  1.        , -0.02764245, -0.35073229,  1.        ],\n",
       "       [ 0.38514181, -0.22708576,  1.        , -0.27048349,  1.        ],\n",
       "       [ 0.29254046, -0.21222493,  1.        , -0.14053322,  1.        ]])"
      ]
     },
     "execution_count": 147,
     "metadata": {},
     "output_type": "execute_result"
    }
   ],
   "source": [
    "stock_change[stock_change > 0.5] = 1  # 赋值操作\n",
    "stock_change"
   ]
  },
  {
   "cell_type": "markdown",
   "metadata": {},
   "source": [
    "## 2.2 通用判断函数"
   ]
  },
  {
   "cell_type": "code",
   "execution_count": 149,
   "metadata": {},
   "outputs": [
    {
     "data": {
      "text/plain": [
       "False"
      ]
     },
     "execution_count": 149,
     "metadata": {},
     "output_type": "execute_result"
    }
   ],
   "source": [
    "# 判断stock_change[0:2, 0:5]是否全是上涨的\n",
    "np.all(stock_change[0:2, 0:5] > 0)"
   ]
  },
  {
   "cell_type": "code",
   "execution_count": 150,
   "metadata": {},
   "outputs": [
    {
     "data": {
      "text/plain": [
       "True"
      ]
     },
     "execution_count": 150,
     "metadata": {},
     "output_type": "execute_result"
    }
   ],
   "source": [
    "np.any(stock_change[0:5, :] > 0 )"
   ]
  },
  {
   "cell_type": "markdown",
   "metadata": {},
   "source": [
    "## 2.3 np.where（三元运算符）"
   ]
  },
  {
   "cell_type": "code",
   "execution_count": 151,
   "metadata": {},
   "outputs": [
    {
     "data": {
      "text/plain": [
       "array([[1, 0, 1, 1],\n",
       "       [0, 0, 0, 1],\n",
       "       [0, 1, 0, 0],\n",
       "       [1, 0, 1, 0]])"
      ]
     },
     "execution_count": 151,
     "metadata": {},
     "output_type": "execute_result"
    }
   ],
   "source": [
    "# 判断前四个股票前四天的涨跌幅 大于0的置为1，否则为0\n",
    "temp = stock_change[:4, :4]\n",
    "np.where(temp > 0, 1, 0)"
   ]
  },
  {
   "cell_type": "code",
   "execution_count": 153,
   "metadata": {},
   "outputs": [
    {
     "data": {
      "text/plain": [
       "array([[0, 0, 0, 0],\n",
       "       [0, 0, 0, 0],\n",
       "       [0, 0, 0, 0],\n",
       "       [0, 0, 0, 0]])"
      ]
     },
     "execution_count": 153,
     "metadata": {},
     "output_type": "execute_result"
    }
   ],
   "source": [
    "# 判断前四个股票前四天的涨跌幅 大于0.5并且小于1的，换为1，否则为0\n",
    "np.where(np.logical_and(temp > 0.5, temp < 1), 1, 0)"
   ]
  },
  {
   "cell_type": "code",
   "execution_count": 154,
   "metadata": {},
   "outputs": [
    {
     "data": {
      "text/plain": [
       "array([[1, 0, 1, 1],\n",
       "       [1, 1, 0, 0],\n",
       "       [0, 1, 0, 0],\n",
       "       [0, 0, 1, 0]])"
      ]
     },
     "execution_count": 154,
     "metadata": {},
     "output_type": "execute_result"
    }
   ],
   "source": [
    "# 判断前四个股票前四天的涨跌幅 大于0.5或者小于-0.5的，换为1，否则为0\n",
    "np.where(np.logical_or(temp > 0.5, temp < -0.5), 1, 0)"
   ]
  },
  {
   "cell_type": "markdown",
   "metadata": {},
   "source": [
    "## 2.4 统计运算\n",
    "    axis 轴的取值并不一定，Numpy中不同的API轴的值都不一样，在这里，axis 0代表列, axis 1代表行去进行统计"
   ]
  },
  {
   "cell_type": "code",
   "execution_count": 155,
   "metadata": {},
   "outputs": [
    {
     "name": "stdout",
     "output_type": "stream",
     "text": [
      "前四只股票前四天的最大涨幅[1.         0.22022268 1.         1.        ]\n",
      "前四只股票前四天的最大跌幅[-0.49762022 -1.84958066 -0.35073229 -0.27048349]\n",
      "前四只股票前四天的波动程度[0.64848858 0.78777255 0.54279754 0.51868035]\n",
      "前四只股票前四天的平均涨跌幅[ 0.62559495 -0.64625614  0.08353363  0.22189314]\n"
     ]
    }
   ],
   "source": [
    "# 接下来对于这4只股票的4天数据，进行一些统计运算\n",
    "# 指定行 去统计\n",
    "print(\"前四只股票前四天的最大涨幅{}\".format(np.max(temp, axis=1)))  # 最大\n",
    "# 使用min, std, mean\n",
    "print(\"前四只股票前四天的最大跌幅{}\".format(np.min(temp, axis=1)))  # 最小\n",
    "print(\"前四只股票前四天的波动程度{}\".format(np.std(temp, axis=1)))  # 方差\n",
    "print(\"前四只股票前四天的平均涨跌幅{}\".format(np.mean(temp, axis=1)))  # 平均"
   ]
  },
  {
   "cell_type": "code",
   "execution_count": 159,
   "metadata": {},
   "outputs": [
    {
     "name": "stdout",
     "output_type": "stream",
     "text": [
      "前四只股票前四天内涨幅最大[0 3 1 2]\n",
      "前四天一天内涨幅最小的股票[1 1 1 2]\n"
     ]
    }
   ],
   "source": [
    "# 获取股票指定哪一天的涨幅最大 返回对应位置\n",
    "print(\"前四只股票前四天内涨幅最大{}\".format(np.argmax(temp, axis=1)))\n",
    "print(\"前四天一天内涨幅最小的股票{}\".format(np.argmin(temp, axis=0)))"
   ]
  },
  {
   "cell_type": "markdown",
   "metadata": {},
   "source": [
    "# 三、数组间运算"
   ]
  },
  {
   "cell_type": "code",
   "execution_count": 160,
   "metadata": {},
   "outputs": [],
   "source": [
    "arr = np.array([[1, 2, 3, 2, 1, 4], [5, 6, 1, 2, 3, 1]])"
   ]
  },
  {
   "cell_type": "code",
   "execution_count": 163,
   "metadata": {},
   "outputs": [
    {
     "data": {
      "text/plain": [
       "array([[2, 3, 4, 3, 2, 5],\n",
       "       [6, 7, 2, 3, 4, 2]])"
      ]
     },
     "execution_count": 163,
     "metadata": {},
     "output_type": "execute_result"
    }
   ],
   "source": [
    "arr + 1  # 数组内每一个数进行运算"
   ]
  },
  {
   "cell_type": "code",
   "execution_count": 162,
   "metadata": {},
   "outputs": [
    {
     "data": {
      "text/plain": [
       "array([[0.5, 1. , 1.5, 1. , 0.5, 2. ],\n",
       "       [2.5, 3. , 0.5, 1. , 1.5, 0.5]])"
      ]
     },
     "execution_count": 162,
     "metadata": {},
     "output_type": "execute_result"
    }
   ],
   "source": [
    "arr / 2"
   ]
  },
  {
   "cell_type": "markdown",
   "metadata": {},
   "source": [
    "# 四、矩阵\n"
   ]
  },
  {
   "cell_type": "code",
   "execution_count": 173,
   "metadata": {},
   "outputs": [],
   "source": [
    "a = np.array([[80, 86],\n",
    "[82, 80],\n",
    "[85, 78],\n",
    "[90, 90],\n",
    "[86, 82],\n",
    "[82, 90],\n",
    "[78, 80],\n",
    "[92, 94]])\n",
    "b = np.array([[0.7], [0.3]])"
   ]
  },
  {
   "cell_type": "markdown",
   "metadata": {},
   "source": [
    "## 4.1 数组转换为矩阵"
   ]
  },
  {
   "cell_type": "code",
   "execution_count": 174,
   "metadata": {
    "scrolled": true
   },
   "outputs": [
    {
     "data": {
      "text/plain": [
       "matrix([[80, 86],\n",
       "        [82, 80],\n",
       "        [85, 78],\n",
       "        [90, 90],\n",
       "        [86, 82],\n",
       "        [82, 90],\n",
       "        [78, 80],\n",
       "        [92, 94]])"
      ]
     },
     "execution_count": 174,
     "metadata": {},
     "output_type": "execute_result"
    }
   ],
   "source": [
    "np.mat(a)"
   ]
  },
  {
   "cell_type": "markdown",
   "metadata": {},
   "source": [
    "## 4.2 矩阵乘法"
   ]
  },
  {
   "cell_type": "markdown",
   "metadata": {},
   "source": [
    "### 4.2.1 matmul"
   ]
  },
  {
   "cell_type": "code",
   "execution_count": 175,
   "metadata": {
    "scrolled": true
   },
   "outputs": [
    {
     "data": {
      "text/plain": [
       "array([[81.8],\n",
       "       [81.4],\n",
       "       [82.9],\n",
       "       [90. ],\n",
       "       [84.8],\n",
       "       [84.4],\n",
       "       [78.6],\n",
       "       [92.6]])"
      ]
     },
     "execution_count": 175,
     "metadata": {},
     "output_type": "execute_result"
    }
   ],
   "source": [
    "np.matmul(a, b)"
   ]
  },
  {
   "cell_type": "markdown",
   "metadata": {},
   "source": [
    "### 4.2.2 dot"
   ]
  },
  {
   "cell_type": "code",
   "execution_count": 177,
   "metadata": {},
   "outputs": [
    {
     "data": {
      "text/plain": [
       "array([[81.8],\n",
       "       [81.4],\n",
       "       [82.9],\n",
       "       [90. ],\n",
       "       [84.8],\n",
       "       [84.4],\n",
       "       [78.6],\n",
       "       [92.6]])"
      ]
     },
     "execution_count": 177,
     "metadata": {},
     "output_type": "execute_result"
    }
   ],
   "source": [
    "np.dot(a, b)"
   ]
  },
  {
   "cell_type": "markdown",
   "metadata": {},
   "source": [
    "# 五、合并、分割"
   ]
  },
  {
   "cell_type": "code",
   "execution_count": 180,
   "metadata": {},
   "outputs": [],
   "source": [
    "a = np.array([[1, 2], [3, 4]])\n",
    "b = np.array([[5, 6]])"
   ]
  },
  {
   "cell_type": "markdown",
   "metadata": {},
   "source": [
    "## 5.1 合并"
   ]
  },
  {
   "cell_type": "markdown",
   "metadata": {},
   "source": [
    "### 5.1.1 np.concatenate()  上下/左右合并"
   ]
  },
  {
   "cell_type": "code",
   "execution_count": 181,
   "metadata": {},
   "outputs": [
    {
     "data": {
      "text/plain": [
       "array([[1, 2],\n",
       "       [3, 4],\n",
       "       [5, 6]])"
      ]
     },
     "execution_count": 181,
     "metadata": {},
     "output_type": "execute_result"
    }
   ],
   "source": [
    "np.concatenate((a, b), axis=0)  # 按列"
   ]
  },
  {
   "cell_type": "code",
   "execution_count": 182,
   "metadata": {},
   "outputs": [
    {
     "data": {
      "text/plain": [
       "array([[1, 2, 5],\n",
       "       [3, 4, 6]])"
      ]
     },
     "execution_count": 182,
     "metadata": {},
     "output_type": "execute_result"
    }
   ],
   "source": [
    "np.concatenate((a, b.T), axis=1) # 按行"
   ]
  },
  {
   "cell_type": "markdown",
   "metadata": {},
   "source": [
    "### 5.1.2 np.hstack()  左右合并"
   ]
  },
  {
   "cell_type": "code",
   "execution_count": 185,
   "metadata": {},
   "outputs": [
    {
     "data": {
      "text/plain": [
       "array([1, 2, 3, 2, 3, 4])"
      ]
     },
     "execution_count": 185,
     "metadata": {},
     "output_type": "execute_result"
    }
   ],
   "source": [
    "a = np.array([1,2,3])\n",
    "b = np.array([2,3,4])\n",
    "np.hstack((a, b))"
   ]
  },
  {
   "cell_type": "code",
   "execution_count": 184,
   "metadata": {},
   "outputs": [
    {
     "data": {
      "text/plain": [
       "array([[1, 2],\n",
       "       [2, 3],\n",
       "       [3, 4]])"
      ]
     },
     "execution_count": 184,
     "metadata": {},
     "output_type": "execute_result"
    }
   ],
   "source": [
    "a = np.array([[1],[2],[3]])\n",
    "b = np.array([[2],[3],[4]])\n",
    "np.hstack((a, b))"
   ]
  },
  {
   "cell_type": "markdown",
   "metadata": {},
   "source": [
    "### 5.1.3 np.vstack() 上下合并"
   ]
  },
  {
   "cell_type": "code",
   "execution_count": 186,
   "metadata": {},
   "outputs": [
    {
     "data": {
      "text/plain": [
       "array([[1, 2, 3],\n",
       "       [2, 3, 4]])"
      ]
     },
     "execution_count": 186,
     "metadata": {},
     "output_type": "execute_result"
    }
   ],
   "source": [
    ">>> a = np.array([1, 2, 3])\n",
    ">>> b = np.array([2, 3, 4])\n",
    ">>> np.vstack((a, b))"
   ]
  },
  {
   "cell_type": "code",
   "execution_count": 187,
   "metadata": {},
   "outputs": [
    {
     "data": {
      "text/plain": [
       "array([[1],\n",
       "       [2],\n",
       "       [3],\n",
       "       [2],\n",
       "       [3],\n",
       "       [4]])"
      ]
     },
     "execution_count": 187,
     "metadata": {},
     "output_type": "execute_result"
    }
   ],
   "source": [
    ">>> a = np.array([[1], [2], [3]])\n",
    ">>> b = np.array([[2], [3], [4]])\n",
    ">>> np.vstack((a, b))"
   ]
  },
  {
   "cell_type": "markdown",
   "metadata": {},
   "source": [
    "## 5.2 分割"
   ]
  },
  {
   "cell_type": "code",
   "execution_count": 190,
   "metadata": {},
   "outputs": [],
   "source": [
    ">>> x = np.arange(9.0)"
   ]
  },
  {
   "cell_type": "markdown",
   "metadata": {},
   "source": [
    "### 5.2.1 numpy.split()"
   ]
  },
  {
   "cell_type": "code",
   "execution_count": 191,
   "metadata": {},
   "outputs": [
    {
     "data": {
      "text/plain": [
       "[array([0., 1., 2.]), array([3., 4., 5.]), array([6., 7., 8.])]"
      ]
     },
     "execution_count": 191,
     "metadata": {},
     "output_type": "execute_result"
    }
   ],
   "source": [
    ">>> np.split(x, 3)  # 分为几等份"
   ]
  },
  {
   "cell_type": "code",
   "execution_count": 192,
   "metadata": {},
   "outputs": [
    {
     "data": {
      "text/plain": [
       "[array([0., 1., 2.]),\n",
       " array([3., 4.]),\n",
       " array([5.]),\n",
       " array([6., 7., 8.]),\n",
       " array([], dtype=float64)]"
      ]
     },
     "execution_count": 192,
     "metadata": {},
     "output_type": "execute_result"
    }
   ],
   "source": [
    "np.split(x, [3, 5, 6, 10])  # 分为等分临界点"
   ]
  },
  {
   "cell_type": "markdown",
   "metadata": {},
   "source": [
    "# 六、IO操作与数据处理"
   ]
  },
  {
   "cell_type": "markdown",
   "metadata": {},
   "source": [
    "## 6.1 读取"
   ]
  },
  {
   "cell_type": "code",
   "execution_count": 194,
   "metadata": {},
   "outputs": [
    {
     "data": {
      "text/plain": [
       "array([[  nan,   nan,   nan,   nan],\n",
       "       [  1. , 123. ,   1.4,  23. ],\n",
       "       [  2. , 110. ,   nan,  18. ],\n",
       "       [  3. ,   nan,   2.1,  19. ]])"
      ]
     },
     "execution_count": 194,
     "metadata": {},
     "output_type": "execute_result"
    }
   ],
   "source": [
    "# 读取数据\n",
    "np.genfromtxt(\"test.csv\", delimiter=',')"
   ]
  },
  {
   "cell_type": "markdown",
   "metadata": {},
   "source": [
    "### 1 什么是缺失值\n",
    "    什么时候numpy中会出现nan：当我们读取本地的文件为float的时候，如果有缺失(或者为None)，就会出现nan"
   ]
  },
  {
   "cell_type": "markdown",
   "metadata": {},
   "source": [
    "### 2 怎么解决缺失值\n",
    "    用pandas吧..numpy处理起来略麻烦"
   ]
  }
 ],
 "metadata": {
  "kernelspec": {
   "display_name": "Python 3",
   "language": "python",
   "name": "python3"
  },
  "language_info": {
   "codemirror_mode": {
    "name": "ipython",
    "version": 3
   },
   "file_extension": ".py",
   "mimetype": "text/x-python",
   "name": "python",
   "nbconvert_exporter": "python",
   "pygments_lexer": "ipython3",
   "version": "3.7.0"
  }
 },
 "nbformat": 4,
 "nbformat_minor": 2
}
