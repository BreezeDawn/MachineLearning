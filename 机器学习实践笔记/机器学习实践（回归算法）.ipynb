{
 "cells": [
  {
   "cell_type": "markdown",
   "metadata": {},
   "source": [
    "# 案例 - 线性回归 - 波士顿房价预测"
   ]
  },
  {
   "cell_type": "code",
   "execution_count": 1,
   "metadata": {},
   "outputs": [],
   "source": [
    "from sklearn.model_selection import train_test_split\n",
    "from sklearn.preprocessing import StandardScaler\n",
    "from sklearn.linear_model import LinearRegression,SGDRegressor\n",
    "from sklearn.datasets import load_boston\n",
    "from sklearn.metrics import mean_squared_error"
   ]
  },
  {
   "cell_type": "code",
   "execution_count": 2,
   "metadata": {},
   "outputs": [],
   "source": [
    "# 获取数据\n",
    "boston = load_boston()"
   ]
  },
  {
   "cell_type": "code",
   "execution_count": 4,
   "metadata": {},
   "outputs": [],
   "source": [
    "# 划分数据集\n",
    "x_train,x_test,y_train,y_test = train_test_split(boston.data,boston.target,random_state=8)"
   ]
  },
  {
   "cell_type": "code",
   "execution_count": 5,
   "metadata": {},
   "outputs": [],
   "source": [
    "# 特征工程，标准化\n",
    "# 1> 创建一个转换器\n",
    "transfer = StandardScaler()\n",
    "# 2> 数据标准化\n",
    "x_train = transfer.fit_transform(x_train)\n",
    "x_test = transfer.transform(x_test)"
   ]
  },
  {
   "cell_type": "code",
   "execution_count": 9,
   "metadata": {},
   "outputs": [
    {
     "name": "stdout",
     "output_type": "stream",
     "text": [
      "[-0.97231971  1.15986824  0.18913175  0.64921268 -1.48767577  2.6684006\n",
      " -0.16577486 -3.00663077  2.29528894 -1.83528364 -1.9229166   0.86732009\n",
      " -4.06006833]\n",
      "22.52163588390508\n"
     ]
    }
   ],
   "source": [
    "# 方法一：正规方程求解\n",
    "# 模型训练\n",
    "# 1> 创建一个估计器\n",
    "estimator_1 = LinearRegression()\n",
    "# 2> 传入训练数据，进行机器学习\n",
    "estimator_1.fit(x_train,y_train)\n",
    "# 3> 打印梯度下降优化后的模型结果系数\n",
    "print(estimator_1.coef_)\n",
    "# 4> 打印梯度下降优化后的模型结果偏置\n",
    "print(estimator_1.intercept_)"
   ]
  },
  {
   "cell_type": "code",
   "execution_count": 13,
   "metadata": {},
   "outputs": [
    {
     "name": "stdout",
     "output_type": "stream",
     "text": [
      "[-0.60698913  0.53770286 -0.34562626  0.85302216 -0.305297    3.0631437\n",
      " -0.18783533 -1.37624705  0.37695909 -0.34913506 -1.63565401  0.70975816\n",
      " -3.00318461]\n",
      "[19.18347064]\n"
     ]
    },
    {
     "name": "stderr",
     "output_type": "stream",
     "text": [
      "E:\\anaconda\\lib\\site-packages\\sklearn\\linear_model\\stochastic_gradient.py:128: FutureWarning: max_iter and tol parameters have been added in <class 'sklearn.linear_model.stochastic_gradient.SGDRegressor'> in 0.19. If both are left unset, they default to max_iter=5 and tol=None. If tol is not None, max_iter defaults to max_iter=1000. From 0.21, default max_iter will be 1000, and default tol will be 1e-3.\n",
      "  \"and default tol will be 1e-3.\" % type(self), FutureWarning)\n"
     ]
    }
   ],
   "source": [
    "# 方法二：梯度下降求解\n",
    "# 模型训练\n",
    "# 1> 创建一个估计器，可以通过调参数，找到学习率效果更好的值\n",
    "estimator_2 = SGDRegressor(learning_rate='constant', eta0=0.001)\n",
    "# 2> 传入训练数据，进行机器学习\n",
    "estimator_2.fit(x_train,y_train)\n",
    "# 3> 打印梯度下降优化后的模型结果系数\n",
    "print(estimator_2.coef_)\n",
    "# 4> 打印梯度下降优化后的模型结果偏置\n",
    "print(estimator_2.intercept_)"
   ]
  },
  {
   "cell_type": "code",
   "execution_count": 14,
   "metadata": {},
   "outputs": [
    {
     "name": "stdout",
     "output_type": "stream",
     "text": [
      "正规方程优化的均方误差为:\n",
      " 22.683150079709872\n",
      "梯度下降优化的均方误差为:\n",
      " 33.61046865346014\n"
     ]
    }
   ],
   "source": [
    "# 模型评估\n",
    "# 使用均方误差对正规方程模型评估\n",
    "y_predict = estimator_1.predict(x_test)\n",
    "error = mean_squared_error(y_test,y_predict)\n",
    "print('正规方程优化的均方误差为:\\n',error)\n",
    "\n",
    "# 使用均方误差对梯度下降模型评估\n",
    "y_predict = estimator_2.predict(x_test)\n",
    "error = mean_squared_error(y_test,y_predict)\n",
    "print('梯度下降优化的均方误差为:\\n',error)"
   ]
  },
  {
   "cell_type": "markdown",
   "metadata": {},
   "source": [
    "# 案例 - 岭回归 - 波士顿房价预测"
   ]
  },
  {
   "cell_type": "code",
   "execution_count": 1,
   "metadata": {},
   "outputs": [],
   "source": [
    "from sklearn.model_selection import train_test_split\n",
    "from sklearn.preprocessing import StandardScaler\n",
    "from sklearn.linear_model import Ridge\n",
    "from sklearn.datasets import load_boston\n",
    "from sklearn.metrics import mean_squared_error"
   ]
  },
  {
   "cell_type": "code",
   "execution_count": 2,
   "metadata": {},
   "outputs": [],
   "source": [
    "# 获取数据\n",
    "boston = load_boston()"
   ]
  },
  {
   "cell_type": "code",
   "execution_count": 3,
   "metadata": {},
   "outputs": [],
   "source": [
    "# 划分数据集\n",
    "x_train, x_test, y_train, y_test = train_test_split(boston.data, boston.target, random_state=6)"
   ]
  },
  {
   "cell_type": "code",
   "execution_count": 4,
   "metadata": {},
   "outputs": [],
   "source": [
    "# 特征工程：标准化\n",
    "# 1）实例化一个转换器类\n",
    "transfer = StandardScaler()\n",
    "# 2）调用fit_transform\n",
    "x_train = transfer.fit_transform(x_train)\n",
    "x_test = transfer.transform(x_test)"
   ]
  },
  {
   "cell_type": "code",
   "execution_count": 5,
   "metadata": {},
   "outputs": [
    {
     "name": "stdout",
     "output_type": "stream",
     "text": [
      "岭回归求出模型参数的方法预测的房屋价格为：\n",
      " [25.08460129 25.30307602 30.00448905 23.62600532 19.9768458  19.86241677\n",
      " 16.50319497 40.62011448 20.75469738 19.56482676 23.56171257 12.777669\n",
      " 28.57012218 34.19807441 32.72920466 18.17373065 13.08205288 28.84863583\n",
      " 17.84336136 16.44163295 16.45130478 28.88749598 25.20275399 19.62877603\n",
      " 20.26380009 19.60365368 20.80046422 31.50318212 19.92507094 25.76456174\n",
      " 25.60397968 23.52732003 31.91924079 36.45724564 15.88775156 23.32795564\n",
      " 14.80689408 21.23868885 19.99525176  3.05121005 11.6301399  11.17265832\n",
      " 12.56960452 13.17050702 21.85747749 24.95335471 33.47596997 23.58819664\n",
      " 19.58648961 18.80318134 21.29960584 16.53994932 24.20196534 20.81683737\n",
      " 34.87429349 24.28417878 12.82102308 32.47880946 17.61288023 19.31542732\n",
      " 24.12245971 23.9350186  11.82501344 29.7240362  14.54951584 16.1892973\n",
      " 34.81842309 14.88301224 26.3474939  34.45589384  8.25192645 21.96223752\n",
      " 16.37847526 22.78849139 30.27291398 22.84489328 14.15098486 42.35278012\n",
      " 12.51338765 21.72067867 20.49556488 12.78110325  0.94501982 36.16670078\n",
      " 18.34664565 35.09756656 13.17649873 18.99633519 13.09048141 37.94311462\n",
      " 13.42828972  3.93100076 16.35896224 29.97885175 20.53125835 18.33286109\n",
      " 29.17091888 18.53320624 27.17612879 16.70130368 21.01358791 24.47935263\n",
      "  8.11604122 16.95543254 22.67149905 10.09085609 27.43809098 24.298105\n",
      " 20.01017878 18.64689073 29.21987741 21.72409136 31.71810116 27.50227729\n",
      " 21.81176995 25.05786804 18.19404484 19.49918015 39.75737775 20.61508612\n",
      " 24.74801826  8.01679516 25.95956601 20.32055217  5.8462826  16.89922438\n",
      " 38.62122604]\n"
     ]
    }
   ],
   "source": [
    "# 岭回归的预估器流程\n",
    "estimator = Ridge()\n",
    "estimator.fit(x_train, y_train)\n",
    "y_predict = estimator.predict(x_test)\n",
    "print(\"岭回归求出模型参数的方法预测的房屋价格为：\\n\", y_predict)"
   ]
  },
  {
   "cell_type": "code",
   "execution_count": 6,
   "metadata": {},
   "outputs": [
    {
     "name": "stdout",
     "output_type": "stream",
     "text": [
      "岭回归求出的回归系数为：\n",
      " [-6.89058421e-01  1.31601008e+00 -2.68847598e-01  6.03967510e-01\n",
      " -1.64645481e+00  2.27142492e+00 -2.36046443e-04 -3.38063215e+00\n",
      "  2.81504239e+00 -2.40058911e+00 -2.08064288e+00  8.16332904e-01\n",
      " -4.01891878e+00]\n",
      "岭回归求出的偏置为：\n",
      " 22.7759894459103\n"
     ]
    }
   ],
   "source": [
    "# 打印模型相关属性\n",
    "print(\"岭回归求出的回归系数为：\\n\", estimator.coef_)\n",
    "print(\"岭回归求出的偏置为：\\n\", estimator.intercept_)"
   ]
  },
  {
   "cell_type": "code",
   "execution_count": 7,
   "metadata": {},
   "outputs": [
    {
     "name": "stdout",
     "output_type": "stream",
     "text": [
      "岭回归的均方误差为：\n",
      " 25.58537175025409\n"
     ]
    }
   ],
   "source": [
    "# 模型评估——均方误差\n",
    "error = mean_squared_error(y_test, y_predict)\n",
    "print(\"岭回归的均方误差为：\\n\", error)"
   ]
  },
  {
   "cell_type": "markdown",
   "metadata": {},
   "source": [
    "# 案例 - 逻辑回归 - 癌症分类预测-良／恶性乳腺癌肿瘤预测¶"
   ]
  },
  {
   "cell_type": "code",
   "execution_count": 13,
   "metadata": {},
   "outputs": [],
   "source": [
    "import pandas as pd\n",
    "import numpy as np\n",
    "from sklearn.linear_model import LogisticRegression\n",
    "from sklearn.model_selection import train_test_split\n",
    "from sklearn.metrics import roc_auc_score,classification_report\n",
    "from sklearn.preprocessing import StandardScaler"
   ]
  },
  {
   "cell_type": "code",
   "execution_count": 6,
   "metadata": {},
   "outputs": [
    {
     "data": {
      "text/html": [
       "<div>\n",
       "<style scoped>\n",
       "    .dataframe tbody tr th:only-of-type {\n",
       "        vertical-align: middle;\n",
       "    }\n",
       "\n",
       "    .dataframe tbody tr th {\n",
       "        vertical-align: top;\n",
       "    }\n",
       "\n",
       "    .dataframe thead th {\n",
       "        text-align: right;\n",
       "    }\n",
       "</style>\n",
       "<table border=\"1\" class=\"dataframe\">\n",
       "  <thead>\n",
       "    <tr style=\"text-align: right;\">\n",
       "      <th></th>\n",
       "      <th>Sample code number</th>\n",
       "      <th>Clump Thickness</th>\n",
       "      <th>Uniformity of Cell Size</th>\n",
       "      <th>Uniformity of Cell Shape</th>\n",
       "      <th>Marginal Adhesion</th>\n",
       "      <th>Single Epithelial Cell Size</th>\n",
       "      <th>Bare Nuclei</th>\n",
       "      <th>Bland Chromatin</th>\n",
       "      <th>Normal Nucleoli</th>\n",
       "      <th>Mitoses</th>\n",
       "      <th>Class</th>\n",
       "    </tr>\n",
       "  </thead>\n",
       "  <tbody>\n",
       "    <tr>\n",
       "      <th>0</th>\n",
       "      <td>1000025</td>\n",
       "      <td>5</td>\n",
       "      <td>1</td>\n",
       "      <td>1</td>\n",
       "      <td>1</td>\n",
       "      <td>2</td>\n",
       "      <td>1</td>\n",
       "      <td>3</td>\n",
       "      <td>1</td>\n",
       "      <td>1</td>\n",
       "      <td>2</td>\n",
       "    </tr>\n",
       "    <tr>\n",
       "      <th>1</th>\n",
       "      <td>1002945</td>\n",
       "      <td>5</td>\n",
       "      <td>4</td>\n",
       "      <td>4</td>\n",
       "      <td>5</td>\n",
       "      <td>7</td>\n",
       "      <td>10</td>\n",
       "      <td>3</td>\n",
       "      <td>2</td>\n",
       "      <td>1</td>\n",
       "      <td>2</td>\n",
       "    </tr>\n",
       "    <tr>\n",
       "      <th>2</th>\n",
       "      <td>1015425</td>\n",
       "      <td>3</td>\n",
       "      <td>1</td>\n",
       "      <td>1</td>\n",
       "      <td>1</td>\n",
       "      <td>2</td>\n",
       "      <td>2</td>\n",
       "      <td>3</td>\n",
       "      <td>1</td>\n",
       "      <td>1</td>\n",
       "      <td>2</td>\n",
       "    </tr>\n",
       "    <tr>\n",
       "      <th>3</th>\n",
       "      <td>1016277</td>\n",
       "      <td>6</td>\n",
       "      <td>8</td>\n",
       "      <td>8</td>\n",
       "      <td>1</td>\n",
       "      <td>3</td>\n",
       "      <td>4</td>\n",
       "      <td>3</td>\n",
       "      <td>7</td>\n",
       "      <td>1</td>\n",
       "      <td>2</td>\n",
       "    </tr>\n",
       "    <tr>\n",
       "      <th>4</th>\n",
       "      <td>1017023</td>\n",
       "      <td>4</td>\n",
       "      <td>1</td>\n",
       "      <td>1</td>\n",
       "      <td>3</td>\n",
       "      <td>2</td>\n",
       "      <td>1</td>\n",
       "      <td>3</td>\n",
       "      <td>1</td>\n",
       "      <td>1</td>\n",
       "      <td>2</td>\n",
       "    </tr>\n",
       "  </tbody>\n",
       "</table>\n",
       "</div>"
      ],
      "text/plain": [
       "   Sample code number  Clump Thickness  Uniformity of Cell Size  \\\n",
       "0             1000025                5                        1   \n",
       "1             1002945                5                        4   \n",
       "2             1015425                3                        1   \n",
       "3             1016277                6                        8   \n",
       "4             1017023                4                        1   \n",
       "\n",
       "   Uniformity of Cell Shape  Marginal Adhesion  Single Epithelial Cell Size  \\\n",
       "0                         1                  1                            2   \n",
       "1                         4                  5                            7   \n",
       "2                         1                  1                            2   \n",
       "3                         8                  1                            3   \n",
       "4                         1                  3                            2   \n",
       "\n",
       "  Bare Nuclei  Bland Chromatin  Normal Nucleoli  Mitoses  Class  \n",
       "0           1                3                1        1      2  \n",
       "1          10                3                2        1      2  \n",
       "2           2                3                1        1      2  \n",
       "3           4                3                7        1      2  \n",
       "4           1                3                1        1      2  "
      ]
     },
     "execution_count": 6,
     "metadata": {},
     "output_type": "execute_result"
    }
   ],
   "source": [
    "# 获取数据并添加字段名\n",
    "column_name = ['Sample code number', 'Clump Thickness', 'Uniformity of Cell Size', 'Uniformity of Cell Shape',\n",
    "                   'Marginal Adhesion', 'Single Epithelial Cell Size', 'Bare Nuclei', 'Bland Chromatin',\n",
    "                   'Normal Nucleoli', 'Mitoses', 'Class']\n",
    "cancer=pd.read_csv(\"https://archive.ics.uci.edu/ml/machine-learning-databases/breast-cancer-wisconsin/breast-cancer-wisconsin.data\",names=column_name)\n",
    "cancer.head()"
   ]
  },
  {
   "cell_type": "code",
   "execution_count": 7,
   "metadata": {},
   "outputs": [],
   "source": [
    "# 缺失值处理\n",
    "cancer=cancer.replace(to_replace=\"?\",value=np.nan)\n",
    "cancer=cancer.dropna()"
   ]
  },
  {
   "cell_type": "code",
   "execution_count": 8,
   "metadata": {},
   "outputs": [],
   "source": [
    "# 数据集划分\n",
    "# 1> 提取特征数据与目标数据\n",
    "x=cancer.iloc[:,1:-2]\n",
    "y=cancer.iloc[:,-1]\n",
    "# 2> 划分数据集\n",
    "x_train,x_test,y_train,y_test=train_test_split(x,y,test_size=0.3)"
   ]
  },
  {
   "cell_type": "code",
   "execution_count": 9,
   "metadata": {},
   "outputs": [],
   "source": [
    "# 标准化处理\n",
    "transfer=StandardScaler()\n",
    "x_train=transfer.fit_transform(x_train)\n",
    "x_test=transfer.transform(x_test)"
   ]
  },
  {
   "cell_type": "code",
   "execution_count": 10,
   "metadata": {},
   "outputs": [
    {
     "name": "stdout",
     "output_type": "stream",
     "text": [
      "logist回归系数为:\n",
      " [[1.54170901 0.15463467 0.5009949  1.00937972 0.26290729 1.14735367\n",
      "  1.06181553 0.67939914]]\n"
     ]
    }
   ],
   "source": [
    "# 模型训练\n",
    "# 创建一个逻辑回归估计器\n",
    "estimator=LogisticRegression()\n",
    "# 训练模型，进行机器学习\n",
    "estimator.fit(x_train,y_train)\n",
    "# 得到模型，打印模型回归系数，即权重值\n",
    "print(\"logist回归系数为:\\n\",estimator.coef_)"
   ]
  },
  {
   "cell_type": "code",
   "execution_count": 11,
   "metadata": {},
   "outputs": [
    {
     "name": "stdout",
     "output_type": "stream",
     "text": [
      "预测值为:\n",
      " [2 4 2 2 2 2 2 4 4 4 4 4 2 2 4 2 2 2 2 2 2 4 2 2 2 2 4 2 2 4 4 2 2 4 2 4 2\n",
      " 2 2 4 4 2 4 2 2 2 4 4 2 2 2 4 4 2 2 4 2 2 4 4 2 2 2 4 2 2 2 4 4 2 2 4 2 4\n",
      " 2 2 2 2 2 2 4 4 2 4 2 2 2 2 2 4 4 4 2 2 2 2 2 4 2 2 4 2 2 2 4 2 4 2 2 2 2\n",
      " 2 2 4 2 4 4 4 4 2 4 4 2 2 4 2 2 4 4 2 2 2 2 2 4 4 4 2 2 4 2 4 4 2 4 2 4 4\n",
      " 2 2 4 4 2 2 2 4 2 2 4 2 2 2 4 4 2 2 2 4 4 2 4 4 2 2 2 2 2 2 2 2 4 4 2 4 4\n",
      " 2 2 2 2 2 2 2 2 2 2 4 2 2 2 2 4 4 4 2 4]\n",
      "真实值与预测值比对:\n",
      " 171    True\n",
      "132    True\n",
      "686    True\n",
      "537    True\n",
      "371    True\n",
      "34     True\n",
      "507    True\n",
      "266    True\n",
      "221    True\n",
      "515    True\n",
      "218    True\n",
      "113    True\n",
      "395    True\n",
      "140    True\n",
      "366    True\n",
      "510    True\n",
      "589    True\n",
      "225    True\n",
      "94     True\n",
      "409    True\n",
      "652    True\n",
      "106    True\n",
      "29     True\n",
      "347    True\n",
      "666    True\n",
      "298    True\n",
      "546    True\n",
      "638    True\n",
      "306    True\n",
      "482    True\n",
      "       ... \n",
      "281    True\n",
      "463    True\n",
      "650    True\n",
      "649    True\n",
      "256    True\n",
      "159    True\n",
      "594    True\n",
      "17     True\n",
      "344    True\n",
      "128    True\n",
      "450    True\n",
      "534    True\n",
      "133    True\n",
      "544    True\n",
      "394    True\n",
      "516    True\n",
      "547    True\n",
      "148    True\n",
      "673    True\n",
      "208    True\n",
      "263    True\n",
      "257    True\n",
      "438    True\n",
      "481    True\n",
      "110    True\n",
      "293    True\n",
      "591    True\n",
      "668    True\n",
      "644    True\n",
      "698    True\n",
      "Name: Class, Length: 205, dtype: bool\n",
      "直接计算准确率为:\n",
      " 0.9804878048780488\n"
     ]
    }
   ],
   "source": [
    "# 模型评估\n",
    "# 方法1：真实值与预测值比对\n",
    "y_predict=estimator.predict(x_test)\n",
    "print(\"预测值为:\\n\",y_predict)\n",
    "print(\"真实值与预测值比对:\\n\",y_predict==y_test)\n",
    "# 方法2：计算准确率\n",
    "print(\"直接计算准确率为:\\n\",estimator.score(x_test,y_test))"
   ]
  },
  {
   "cell_type": "code",
   "execution_count": 14,
   "metadata": {},
   "outputs": [
    {
     "name": "stdout",
     "output_type": "stream",
     "text": [
      "精确率与召回率为:\n",
      "              precision    recall  f1-score   support\n",
      "\n",
      "         良性       0.99      0.98      0.98       131\n",
      "         恶性       0.96      0.99      0.97        74\n",
      "\n",
      "avg / total       0.98      0.98      0.98       205\n",
      "\n"
     ]
    }
   ],
   "source": [
    "#打印精确率、召回率、F1 系数以及该类占样本数\n",
    "print(\"精确率与召回率为:\\n\",classification_report(y_test,y_predict,labels=[2,4],target_names=[\"良性\",\"恶性\"]))"
   ]
  },
  {
   "cell_type": "code",
   "execution_count": 15,
   "metadata": {},
   "outputs": [
    {
     "name": "stdout",
     "output_type": "stream",
     "text": [
      "AUC值:\n",
      " 0.9817928615638539\n"
     ]
    }
   ],
   "source": [
    "###模型评估\n",
    "#ROC曲线与AUC值\n",
    "# 把输出的 2 4 转换为 0 或 1\n",
    "y_test=np.where(y_test>2,1,0)  # 大于2就变为1，否则变为0\n",
    "print(\"AUC值:\\n\",roc_auc_score(y_test,y_predict))"
   ]
  },
  {
   "cell_type": "code",
   "execution_count": null,
   "metadata": {},
   "outputs": [],
   "source": []
  },
  {
   "cell_type": "code",
   "execution_count": null,
   "metadata": {},
   "outputs": [],
   "source": []
  },
  {
   "cell_type": "code",
   "execution_count": null,
   "metadata": {},
   "outputs": [],
   "source": []
  },
  {
   "cell_type": "code",
   "execution_count": null,
   "metadata": {},
   "outputs": [],
   "source": []
  },
  {
   "cell_type": "code",
   "execution_count": null,
   "metadata": {},
   "outputs": [],
   "source": []
  },
  {
   "cell_type": "code",
   "execution_count": null,
   "metadata": {},
   "outputs": [],
   "source": []
  },
  {
   "cell_type": "code",
   "execution_count": null,
   "metadata": {},
   "outputs": [],
   "source": []
  },
  {
   "cell_type": "code",
   "execution_count": null,
   "metadata": {},
   "outputs": [],
   "source": []
  },
  {
   "cell_type": "code",
   "execution_count": null,
   "metadata": {},
   "outputs": [],
   "source": []
  },
  {
   "cell_type": "code",
   "execution_count": null,
   "metadata": {},
   "outputs": [],
   "source": []
  },
  {
   "cell_type": "code",
   "execution_count": null,
   "metadata": {},
   "outputs": [],
   "source": []
  },
  {
   "cell_type": "code",
   "execution_count": null,
   "metadata": {},
   "outputs": [],
   "source": []
  },
  {
   "cell_type": "code",
   "execution_count": null,
   "metadata": {},
   "outputs": [],
   "source": []
  },
  {
   "cell_type": "code",
   "execution_count": null,
   "metadata": {},
   "outputs": [],
   "source": []
  },
  {
   "cell_type": "code",
   "execution_count": null,
   "metadata": {},
   "outputs": [],
   "source": []
  },
  {
   "cell_type": "code",
   "execution_count": null,
   "metadata": {},
   "outputs": [],
   "source": []
  }
 ],
 "metadata": {
  "kernelspec": {
   "display_name": "Python 3",
   "language": "python",
   "name": "python3"
  },
  "language_info": {
   "codemirror_mode": {
    "name": "ipython",
    "version": 3
   },
   "file_extension": ".py",
   "mimetype": "text/x-python",
   "name": "python",
   "nbconvert_exporter": "python",
   "pygments_lexer": "ipython3",
   "version": "3.7.0"
  }
 },
 "nbformat": 4,
 "nbformat_minor": 2
}
